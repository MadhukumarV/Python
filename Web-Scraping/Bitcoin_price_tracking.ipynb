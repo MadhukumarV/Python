{
  "nbformat": 4,
  "nbformat_minor": 0,
  "metadata": {
    "colab": {
      "provenance": []
    },
    "kernelspec": {
      "name": "python3",
      "display_name": "Python 3"
    },
    "language_info": {
      "name": "python"
    }
  },
  "cells": [
    {
      "cell_type": "code",
      "execution_count": 11,
      "metadata": {
        "id": "Wjp9fLcNMP_v"
      },
      "outputs": [],
      "source": [
        "#pre- requisites\n",
        "\n",
        "import requests\n",
        "from bs4 import BeautifulSoup"
      ]
    },
    {
      "cell_type": "code",
      "source": [
        "# fetching web adresss\n",
        "\n",
        "url = \"https://www.binance.com/en-IN/price/bitcoin\"\n",
        "res = requests.get(url)\n",
        "print(res.status_code)"
      ],
      "metadata": {
        "colab": {
          "base_uri": "https://localhost:8080/"
        },
        "id": "mgMk7HjzMZiT",
        "outputId": "f9008230-88c3-42af-f7e6-ab1f0701c079"
      },
      "execution_count": 12,
      "outputs": [
        {
          "output_type": "stream",
          "name": "stdout",
          "text": [
            "200\n"
          ]
        }
      ]
    },
    {
      "cell_type": "code",
      "source": [
        "#using soup to fetch title\n",
        "soup = BeautifulSoup(res.text, \"lxml\")\n",
        "print(soup.title.text)"
      ],
      "metadata": {
        "colab": {
          "base_uri": "https://localhost:8080/"
        },
        "id": "WG0imsxPNAyO",
        "outputId": "d57702b5-d6b1-4aa5-be8a-7b8dff12d81f"
      },
      "execution_count": 13,
      "outputs": [
        {
          "output_type": "stream",
          "name": "stdout",
          "text": [
            "Bitcoin Price | BTC to USD Converter, Chart and News\n"
          ]
        }
      ]
    },
    {
      "cell_type": "code",
      "source": [
        "#Finding the price of bitcoin using class_ identification\n",
        "\n",
        "uneditedprice = soup.find(class_=\"css-1bwgsh3\").text\n",
        "print(uneditedprice)"
      ],
      "metadata": {
        "colab": {
          "base_uri": "https://localhost:8080/"
        },
        "id": "0CJg5czgNeFP",
        "outputId": "9eb48b32-f1e2-4be0-e998-0ad9c5d80d5d"
      },
      "execution_count": 14,
      "outputs": [
        {
          "output_type": "stream",
          "name": "stdout",
          "text": [
            "$ 68,292.73\n"
          ]
        }
      ]
    },
    {
      "cell_type": "code",
      "source": [
        "#formating  the price value of string by replace\n",
        "formattedprice = uneditedprice.replace(\",\", \"\")\n",
        "print(formattedprice)"
      ],
      "metadata": {
        "colab": {
          "base_uri": "https://localhost:8080/"
        },
        "id": "_69TTDteODsk",
        "outputId": "620206e6-f573-440b-b5f5-57dceaa815b9"
      },
      "execution_count": 15,
      "outputs": [
        {
          "output_type": "stream",
          "name": "stdout",
          "text": [
            "$ 68292.73\n"
          ]
        }
      ]
    },
    {
      "cell_type": "code",
      "source": [
        "#converting the str to float removing unwanted space and symbol\n",
        "formattedprice = float(formattedprice[2:])\n",
        "print(formattedprice)"
      ],
      "metadata": {
        "colab": {
          "base_uri": "https://localhost:8080/"
        },
        "id": "7Lc6eBiFO7cq",
        "outputId": "3b2e2750-9a35-42d0-fcf3-59b9a2004ef3"
      },
      "execution_count": 16,
      "outputs": [
        {
          "output_type": "stream",
          "name": "stdout",
          "text": [
            "68292.73\n"
          ]
        }
      ]
    },
    {
      "cell_type": "code",
      "source": [
        "# adding the if condition to check the price\n",
        "\n",
        "myprice = 65000\n",
        "\n",
        "if myprice < formattedprice:\n",
        "    print(\"Price is High\")\n",
        "elif myprice > formattedprice:\n",
        "    print(\"Price is favourable to  Buy\")\n"
      ],
      "metadata": {
        "colab": {
          "base_uri": "https://localhost:8080/"
        },
        "id": "igvLueXhPSAs",
        "outputId": "ad8e78e3-0c8e-471f-9459-eaac4a9839e8"
      },
      "execution_count": 17,
      "outputs": [
        {
          "output_type": "stream",
          "name": "stdout",
          "text": [
            "Price is High\n"
          ]
        }
      ]
    }
  ]
}