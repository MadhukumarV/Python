{
  "nbformat": 4,
  "nbformat_minor": 0,
  "metadata": {
    "colab": {
      "provenance": []
    },
    "kernelspec": {
      "name": "python3",
      "display_name": "Python 3"
    },
    "language_info": {
      "name": "python"
    }
  },
  "cells": [
    {
      "cell_type": "markdown",
      "source": [
        "#Pre requisites#\n",
        "\n",
        "*   *pip install requests*\n",
        "*   *pip install beautifulsoup4*\n",
        "\n",
        "\n",
        "\n"
      ],
      "metadata": {
        "id": "bWZPMBdOtHo_"
      }
    },
    {
      "cell_type": "code",
      "execution_count": 2,
      "metadata": {
        "id": "QoiQ3MEVp_oB"
      },
      "outputs": [],
      "source": [
        "import requests\n",
        "from bs4 import BeautifulSoup"
      ]
    },
    {
      "cell_type": "code",
      "source": [
        "url = \"https://en.wikipedia.org/wiki/List_of_countries_and_dependencies_by_population\"\n",
        "response = requests.get(url)\n",
        "print(response)"
      ],
      "metadata": {
        "colab": {
          "base_uri": "https://localhost:8080/"
        },
        "id": "xfSv9Ii8vSiG",
        "outputId": "7afd3d5e-d326-47da-fa10-7105bf95bd17"
      },
      "execution_count": 10,
      "outputs": [
        {
          "output_type": "stream",
          "name": "stdout",
          "text": [
            "<Response [200]>\n"
          ]
        }
      ]
    },
    {
      "cell_type": "code",
      "source": [
        "raw_code = response.text\n",
        "soup = BeautifulSoup(raw_code, \"html.parser\")\n",
        "print(soup.title.text)"
      ],
      "metadata": {
        "colab": {
          "base_uri": "https://localhost:8080/"
        },
        "id": "JBO9jj3gwOEe",
        "outputId": "3a1c2b23-3e17-47bc-fad8-94da42a85765"
      },
      "execution_count": 13,
      "outputs": [
        {
          "output_type": "stream",
          "name": "stdout",
          "text": [
            "List of countries and dependencies by population - Wikipedia\n"
          ]
        }
      ]
    }
  ]
}