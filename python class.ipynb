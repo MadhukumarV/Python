{
 "cells": [
  {
   "cell_type": "code",
   "execution_count": 1,
   "id": "6f5b0e01-7a06-4b8c-b149-eb53244dc7f3",
   "metadata": {},
   "outputs": [
    {
     "data": {
      "text/plain": [
       "5"
      ]
     },
     "execution_count": 1,
     "metadata": {},
     "output_type": "execute_result"
    }
   ],
   "source": [
    "2+3\n"
   ]
  },
  {
   "cell_type": "code",
   "execution_count": 2,
   "id": "55b542b3-8d72-49a4-ab01-49b326a24bdf",
   "metadata": {},
   "outputs": [],
   "source": [
    "d = \"mama\""
   ]
  },
  {
   "cell_type": "code",
   "execution_count": 6,
   "id": "c5c622fa-c959-4a79-8774-0a220c7ded45",
   "metadata": {},
   "outputs": [
    {
     "data": {
      "text/plain": [
       "'Mama'"
      ]
     },
     "execution_count": 6,
     "metadata": {},
     "output_type": "execute_result"
    }
   ],
   "source": [
    "d.capitalize()"
   ]
  },
  {
   "cell_type": "code",
   "execution_count": 7,
   "id": "e079e92d-bd2e-44db-bf0d-1b3ddf3e49a9",
   "metadata": {},
   "outputs": [
    {
     "data": {
      "text/plain": [
       "'Mama'"
      ]
     },
     "execution_count": 7,
     "metadata": {},
     "output_type": "execute_result"
    }
   ],
   "source": [
    "d.title()"
   ]
  },
  {
   "cell_type": "code",
   "execution_count": 8,
   "id": "f5dfaf15-3ac5-4373-8b88-3e8884f2ffbd",
   "metadata": {},
   "outputs": [
    {
     "data": {
      "text/plain": [
       "'MAMA'"
      ]
     },
     "execution_count": 8,
     "metadata": {},
     "output_type": "execute_result"
    }
   ],
   "source": [
    "d.upper()"
   ]
  },
  {
   "cell_type": "code",
   "execution_count": 9,
   "id": "152311a0-30ff-4f51-a32e-4b7a19c0dc7a",
   "metadata": {},
   "outputs": [],
   "source": [
    "txt = \"Learning is important to be successful\""
   ]
  },
  {
   "cell_type": "code",
   "execution_count": 10,
   "id": "2a7eb992-dd53-499f-8591-e5db10fd1e66",
   "metadata": {},
   "outputs": [
    {
     "data": {
      "text/plain": [
       "'l'"
      ]
     },
     "execution_count": 10,
     "metadata": {},
     "output_type": "execute_result"
    }
   ],
   "source": [
    "txt[-1]"
   ]
  },
  {
   "cell_type": "code",
   "execution_count": 12,
   "id": "127c9c7b-2fbc-42eb-9b96-7af2d2dceac2",
   "metadata": {},
   "outputs": [
    {
     "data": {
      "text/plain": [
       "3"
      ]
     },
     "execution_count": 12,
     "metadata": {},
     "output_type": "execute_result"
    }
   ],
   "source": [
    "txt.count(\"i\")"
   ]
  },
  {
   "cell_type": "code",
   "execution_count": 15,
   "id": "86965f17-4495-4b6e-bb97-73552e4557ec",
   "metadata": {},
   "outputs": [
    {
     "data": {
      "text/plain": [
       "['Learning', 'is', 'important', 'to', 'be', 'successful']"
      ]
     },
     "execution_count": 15,
     "metadata": {},
     "output_type": "execute_result"
    }
   ],
   "source": [
    "txt.split()"
   ]
  },
  {
   "cell_type": "code",
   "execution_count": 16,
   "id": "e1ba0858-2d66-4d54-b2ea-6684a291a962",
   "metadata": {},
   "outputs": [
    {
     "data": {
      "text/plain": [
       "('Learning ', 'is', ' important to be successful')"
      ]
     },
     "execution_count": 16,
     "metadata": {},
     "output_type": "execute_result"
    }
   ],
   "source": [
    "txt.partition(\"is\")"
   ]
  },
  {
   "cell_type": "code",
   "execution_count": null,
   "id": "2fca69fd-da52-4291-a575-50a1bf820f1b",
   "metadata": {},
   "outputs": [],
   "source": []
  }
 ],
 "metadata": {
  "kernelspec": {
   "display_name": "Python 3 (ipykernel)",
   "language": "python",
   "name": "python3"
  },
  "language_info": {
   "codemirror_mode": {
    "name": "ipython",
    "version": 3
   },
   "file_extension": ".py",
   "mimetype": "text/x-python",
   "name": "python",
   "nbconvert_exporter": "python",
   "pygments_lexer": "ipython3",
   "version": "3.10.6"
  }
 },
 "nbformat": 4,
 "nbformat_minor": 5
}
