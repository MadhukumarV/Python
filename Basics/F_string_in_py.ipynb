{
  "nbformat": 4,
  "nbformat_minor": 0,
  "metadata": {
    "colab": {
      "provenance": []
    },
    "kernelspec": {
      "name": "python3",
      "display_name": "Python 3"
    },
    "language_info": {
      "name": "python"
    }
  },
  "cells": [
    {
      "cell_type": "code",
      "execution_count": 1,
      "metadata": {
        "colab": {
          "base_uri": "https://localhost:8080/"
        },
        "id": "supPoLb6nMTr",
        "outputId": "d0fb46b5-937d-4e94-a481-0d031b69db57"
      },
      "outputs": [
        {
          "output_type": "stream",
          "name": "stdout",
          "text": [
            "My name is Madhu,my age is 25\n"
          ]
        }
      ],
      "source": [
        "s = \"My name is {},my age is {}\"\n",
        "\n",
        "name = \"Madhu\"\n",
        "age = 25\n",
        "\n",
        "print(s.format(name,age))\n"
      ]
    },
    {
      "cell_type": "code",
      "source": [
        "s = \"My name is {},my age is {}\"\n",
        "\n",
        "name = \"Madhu\"\n",
        "age = 25\n",
        "\n",
        "s = f\"My name is {name},my age is {age}\"\n",
        "print(s)\n"
      ],
      "metadata": {
        "colab": {
          "base_uri": "https://localhost:8080/"
        },
        "id": "9GV7Kp9fnxXP",
        "outputId": "02a043e4-94b6-4ff6-ad62-f5d7f09c549b"
      },
      "execution_count": 2,
      "outputs": [
        {
          "output_type": "stream",
          "name": "stdout",
          "text": [
            "My name is Madhu,my age is 25\n"
          ]
        }
      ]
    }
  ]
}