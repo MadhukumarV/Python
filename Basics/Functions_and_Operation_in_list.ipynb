{
  "nbformat": 4,
  "nbformat_minor": 0,
  "metadata": {
    "colab": {
      "provenance": []
    },
    "kernelspec": {
      "name": "python3",
      "display_name": "Python 3"
    },
    "language_info": {
      "name": "python"
    }
  },
  "cells": [
    {
      "cell_type": "markdown",
      "source": [
        "### Functions or Methods  in List\n",
        "\n",
        "*   extend\n",
        "*   insert\n",
        "*   pop\n",
        "*   max\n",
        "*   min\n",
        "*   len\n",
        "*   sort\n",
        "*   reverse\n",
        "*   copy\n"
      ],
      "metadata": {
        "id": "SYB5d5nJyEz-"
      }
    },
    {
      "cell_type": "code",
      "source": [
        "m =[1,23,5,69,5]"
      ],
      "metadata": {
        "id": "D7rCP62GlGX_"
      },
      "execution_count": 3,
      "outputs": []
    },
    {
      "cell_type": "code",
      "source": [
        "m.append(100)\n",
        "\n",
        "print(m)"
      ],
      "metadata": {
        "colab": {
          "base_uri": "https://localhost:8080/"
        },
        "id": "OdOKXMrgldhM",
        "outputId": "18e88b55-9eb2-4a52-f80a-6934976b55c9"
      },
      "execution_count": 6,
      "outputs": [
        {
          "output_type": "stream",
          "name": "stdout",
          "text": [
            "[1, 23, 5, 69, 5, 100, 100, 100]\n"
          ]
        }
      ]
    },
    {
      "cell_type": "code",
      "source": [
        "m.pop()"
      ],
      "metadata": {
        "colab": {
          "base_uri": "https://localhost:8080/"
        },
        "id": "FRQpN6Q_lf6i",
        "outputId": "5f00ab22-64ac-40bd-bcf8-225bfe102d9c"
      },
      "execution_count": 7,
      "outputs": [
        {
          "output_type": "execute_result",
          "data": {
            "text/plain": [
              "100"
            ]
          },
          "metadata": {},
          "execution_count": 7
        }
      ]
    },
    {
      "cell_type": "code",
      "source": [
        "print(m)"
      ],
      "metadata": {
        "colab": {
          "base_uri": "https://localhost:8080/"
        },
        "id": "Pqg5JiHqmRxr",
        "outputId": "f83e7906-5c2e-4354-d0df-b70d3637cf0e"
      },
      "execution_count": 8,
      "outputs": [
        {
          "output_type": "stream",
          "name": "stdout",
          "text": [
            "[1, 23, 5, 69, 5, 100, 100]\n"
          ]
        }
      ]
    },
    {
      "cell_type": "code",
      "source": [
        "m.insert(5,10)\n",
        "print(m)"
      ],
      "metadata": {
        "colab": {
          "base_uri": "https://localhost:8080/"
        },
        "id": "muG0Fv-tmU2M",
        "outputId": "813272a6-eb80-4963-f1ef-3d07541d97b8"
      },
      "execution_count": 9,
      "outputs": [
        {
          "output_type": "stream",
          "name": "stdout",
          "text": [
            "[1, 23, 5, 69, 5, 10, 100, 100]\n"
          ]
        }
      ]
    },
    {
      "cell_type": "code",
      "source": [
        "m.extend([5,6])\n",
        "print(m)"
      ],
      "metadata": {
        "colab": {
          "base_uri": "https://localhost:8080/"
        },
        "id": "RwjbIhfrmhzu",
        "outputId": "3e07c546-b062-4cdd-d453-81c58664c9b7"
      },
      "execution_count": 10,
      "outputs": [
        {
          "output_type": "stream",
          "name": "stdout",
          "text": [
            "[1, 23, 5, 69, 5, 10, 100, 100, 5, 6]\n"
          ]
        }
      ]
    },
    {
      "cell_type": "code",
      "source": [
        "m.reverse()"
      ],
      "metadata": {
        "id": "KhDPgkp2m2lo"
      },
      "execution_count": 11,
      "outputs": []
    },
    {
      "cell_type": "code",
      "source": [
        "print(m)"
      ],
      "metadata": {
        "colab": {
          "base_uri": "https://localhost:8080/"
        },
        "id": "lJzKpXIZm8en",
        "outputId": "2babd740-cbab-43c9-fb3c-3927690fca5d"
      },
      "execution_count": 12,
      "outputs": [
        {
          "output_type": "stream",
          "name": "stdout",
          "text": [
            "[6, 5, 100, 100, 10, 5, 69, 5, 23, 1]\n"
          ]
        }
      ]
    },
    {
      "cell_type": "code",
      "source": [
        "m.sort(reverse=True)\n",
        "print(m)"
      ],
      "metadata": {
        "colab": {
          "base_uri": "https://localhost:8080/"
        },
        "id": "YB55sqUenALV",
        "outputId": "644ab436-0c61-4956-9ee5-4ff992004bfc"
      },
      "execution_count": 16,
      "outputs": [
        {
          "output_type": "stream",
          "name": "stdout",
          "text": [
            "[100, 100, 69, 23, 10, 6, 5, 5, 5, 1]\n"
          ]
        }
      ]
    },
    {
      "cell_type": "code",
      "source": [
        "print(len(m))"
      ],
      "metadata": {
        "colab": {
          "base_uri": "https://localhost:8080/"
        },
        "id": "pZW2HaRRoTW5",
        "outputId": "4b3b0429-3be5-47bd-ab1b-7aeefa3697a9"
      },
      "execution_count": 17,
      "outputs": [
        {
          "output_type": "stream",
          "name": "stdout",
          "text": [
            "10\n"
          ]
        }
      ]
    },
    {
      "cell_type": "code",
      "source": [
        "max(m)"
      ],
      "metadata": {
        "colab": {
          "base_uri": "https://localhost:8080/"
        },
        "id": "ymAU1Q2uo4sY",
        "outputId": "ea0bdab2-40b1-4457-9316-7be6a8ba1bfd"
      },
      "execution_count": 18,
      "outputs": [
        {
          "output_type": "execute_result",
          "data": {
            "text/plain": [
              "100"
            ]
          },
          "metadata": {},
          "execution_count": 18
        }
      ]
    },
    {
      "cell_type": "code",
      "source": [
        "min(m)"
      ],
      "metadata": {
        "colab": {
          "base_uri": "https://localhost:8080/"
        },
        "id": "jx6dnOCTo7xE",
        "outputId": "197ad870-ec0a-4e7d-c26f-d36547ce6d35"
      },
      "execution_count": 19,
      "outputs": [
        {
          "output_type": "execute_result",
          "data": {
            "text/plain": [
              "1"
            ]
          },
          "metadata": {},
          "execution_count": 19
        }
      ]
    },
    {
      "cell_type": "code",
      "source": [
        "m.sort(reverse=True)\n",
        "print(m)"
      ],
      "metadata": {
        "colab": {
          "base_uri": "https://localhost:8080/"
        },
        "id": "acjwwGbEo-Cb",
        "outputId": "12b652f6-15dc-47f9-b321-9789e05f6446"
      },
      "execution_count": 22,
      "outputs": [
        {
          "output_type": "stream",
          "name": "stdout",
          "text": [
            "[100, 100, 69, 23, 10, 6, 5, 5, 5, 1]\n"
          ]
        }
      ]
    },
    {
      "cell_type": "code",
      "source": [
        "m.reverse()\n",
        "print(m)"
      ],
      "metadata": {
        "colab": {
          "base_uri": "https://localhost:8080/"
        },
        "id": "-H4axcsIpEEA",
        "outputId": "3fe82135-322e-4040-e9c6-9d54facf939c"
      },
      "execution_count": 23,
      "outputs": [
        {
          "output_type": "stream",
          "name": "stdout",
          "text": [
            "[1, 5, 5, 5, 6, 10, 23, 69, 100, 100]\n"
          ]
        }
      ]
    },
    {
      "cell_type": "code",
      "source": [
        "m.reverse()\n",
        "print(m)"
      ],
      "metadata": {
        "colab": {
          "base_uri": "https://localhost:8080/"
        },
        "id": "yhszF-ORpkF9",
        "outputId": "4fb98af6-dc60-4db0-abb1-938467c32041"
      },
      "execution_count": 28,
      "outputs": [
        {
          "output_type": "stream",
          "name": "stdout",
          "text": [
            "[100, 100, 69, 23, 10, 6, 5, 5, 5, 1]\n"
          ]
        }
      ]
    },
    {
      "cell_type": "code",
      "source": [
        "m"
      ],
      "metadata": {
        "colab": {
          "base_uri": "https://localhost:8080/"
        },
        "id": "0v42afwIpp5K",
        "outputId": "a9b2a684-81e6-43e2-d54a-90ba45ec0e56"
      },
      "execution_count": 29,
      "outputs": [
        {
          "output_type": "execute_result",
          "data": {
            "text/plain": [
              "[100, 100, 69, 23, 10, 6, 5, 5, 5, 1]"
            ]
          },
          "metadata": {},
          "execution_count": 29
        }
      ]
    },
    {
      "cell_type": "code",
      "source": [
        "m.reverse()"
      ],
      "metadata": {
        "id": "sVxVnDyhqBIM"
      },
      "execution_count": 30,
      "outputs": []
    },
    {
      "cell_type": "code",
      "source": [
        "m"
      ],
      "metadata": {
        "colab": {
          "base_uri": "https://localhost:8080/"
        },
        "id": "KU_JyPaeqJxF",
        "outputId": "66791473-9220-4423-de41-4d53927b1de6"
      },
      "execution_count": 31,
      "outputs": [
        {
          "output_type": "execute_result",
          "data": {
            "text/plain": [
              "[1, 5, 5, 5, 6, 10, 23, 69, 100, 100]"
            ]
          },
          "metadata": {},
          "execution_count": 31
        }
      ]
    },
    {
      "cell_type": "code",
      "source": [
        "m1= m.copy()\n",
        "m1"
      ],
      "metadata": {
        "colab": {
          "base_uri": "https://localhost:8080/"
        },
        "id": "N4MAMJ5jqK06",
        "outputId": "8c3fdd6a-3169-4ac0-d35a-a67291ef6511"
      },
      "execution_count": 32,
      "outputs": [
        {
          "output_type": "execute_result",
          "data": {
            "text/plain": [
              "[1, 5, 5, 5, 6, 10, 23, 69, 100, 100]"
            ]
          },
          "metadata": {},
          "execution_count": 32
        }
      ]
    },
    {
      "cell_type": "markdown",
      "source": [
        "### Operations in Lists\n",
        "\n",
        "*   Arthematic\n",
        "*   Membership\n",
        "*   Loop\n",
        "\n"
      ],
      "metadata": {
        "id": "CePm69SSzXaG"
      }
    },
    {
      "cell_type": "code",
      "source": [
        "n =[7,8,9,10]\n",
        "o = [11,12,13]"
      ],
      "metadata": {
        "id": "CB09TZyMx8PC"
      },
      "execution_count": 35,
      "outputs": []
    },
    {
      "cell_type": "code",
      "source": [
        "#Arthematic Operations\n",
        "print(n+o) #concatination\n"
      ],
      "metadata": {
        "colab": {
          "base_uri": "https://localhost:8080/"
        },
        "id": "ylzmph_uzpRv",
        "outputId": "3ca02a9a-8bad-47c8-81ec-9637680ddf2f"
      },
      "execution_count": 36,
      "outputs": [
        {
          "output_type": "stream",
          "name": "stdout",
          "text": [
            "[7, 8, 9, 10, 11, 12, 13]\n"
          ]
        }
      ]
    },
    {
      "cell_type": "code",
      "source": [
        "n * 4  #only multiply with digits"
      ],
      "metadata": {
        "colab": {
          "base_uri": "https://localhost:8080/"
        },
        "id": "D0JGw_9E0Gwv",
        "outputId": "aa9ffa73-b5ce-46b1-dfce-a7159c17f1b9"
      },
      "execution_count": 37,
      "outputs": [
        {
          "output_type": "execute_result",
          "data": {
            "text/plain": [
              "[7, 8, 9, 10, 7, 8, 9, 10, 7, 8, 9, 10, 7, 8, 9, 10]"
            ]
          },
          "metadata": {},
          "execution_count": 37
        }
      ]
    },
    {
      "cell_type": "code",
      "source": [
        "n * o"
      ],
      "metadata": {
        "colab": {
          "base_uri": "https://localhost:8080/",
          "height": 141
        },
        "id": "tOmzA5xw0Odh",
        "outputId": "1c4eb88d-bc3b-46fc-a537-074f2b478c36"
      },
      "execution_count": 38,
      "outputs": [
        {
          "output_type": "error",
          "ename": "TypeError",
          "evalue": "can't multiply sequence by non-int of type 'list'",
          "traceback": [
            "\u001b[0;31m---------------------------------------------------------------------------\u001b[0m",
            "\u001b[0;31mTypeError\u001b[0m                                 Traceback (most recent call last)",
            "\u001b[0;32m<ipython-input-38-dba2131d571f>\u001b[0m in \u001b[0;36m<cell line: 1>\u001b[0;34m()\u001b[0m\n\u001b[0;32m----> 1\u001b[0;31m \u001b[0mn\u001b[0m \u001b[0;34m*\u001b[0m \u001b[0mo\u001b[0m\u001b[0;34m\u001b[0m\u001b[0;34m\u001b[0m\u001b[0m\n\u001b[0m",
            "\u001b[0;31mTypeError\u001b[0m: can't multiply sequence by non-int of type 'list'"
          ]
        }
      ]
    },
    {
      "cell_type": "code",
      "source": [
        "#Membership Operation\n",
        "n =[7,8,9,10]\n",
        "o = [11,12,13]\n",
        "\n",
        "print(9 in n)"
      ],
      "metadata": {
        "colab": {
          "base_uri": "https://localhost:8080/"
        },
        "id": "T8aUnaSq0ROV",
        "outputId": "5c0c5c2b-5fc5-482f-bf5e-bb4af2db1679"
      },
      "execution_count": 39,
      "outputs": [
        {
          "output_type": "stream",
          "name": "stdout",
          "text": [
            "True\n"
          ]
        }
      ]
    },
    {
      "cell_type": "code",
      "source": [
        "print(15 in n)"
      ],
      "metadata": {
        "colab": {
          "base_uri": "https://localhost:8080/"
        },
        "id": "AtvfwW4t1ESs",
        "outputId": "5518d77c-e34f-45f7-e735-aefd2f5451e4"
      },
      "execution_count": 41,
      "outputs": [
        {
          "output_type": "stream",
          "name": "stdout",
          "text": [
            "False\n"
          ]
        }
      ]
    },
    {
      "cell_type": "code",
      "source": [
        "print(100 not in n)"
      ],
      "metadata": {
        "colab": {
          "base_uri": "https://localhost:8080/"
        },
        "id": "D1Y1crMo02fM",
        "outputId": "9369f0ce-e43d-4cb9-8506-546f0d6931e0"
      },
      "execution_count": 40,
      "outputs": [
        {
          "output_type": "stream",
          "name": "stdout",
          "text": [
            "True\n"
          ]
        }
      ]
    },
    {
      "cell_type": "code",
      "source": [
        "# Loop\n",
        "x = [6,9,58,9]\n",
        "for i in x:\n",
        "  print(i)"
      ],
      "metadata": {
        "colab": {
          "base_uri": "https://localhost:8080/"
        },
        "id": "cYGeulo40_QL",
        "outputId": "c0e867fe-40e4-4548-939a-74ad97bc1ae0"
      },
      "execution_count": 42,
      "outputs": [
        {
          "output_type": "stream",
          "name": "stdout",
          "text": [
            "6\n",
            "9\n",
            "58\n",
            "9\n"
          ]
        }
      ]
    }
  ]
}