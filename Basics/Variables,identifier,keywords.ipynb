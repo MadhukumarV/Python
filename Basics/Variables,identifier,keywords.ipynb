{
  "nbformat": 4,
  "nbformat_minor": 0,
  "metadata": {
    "colab": {
      "provenance": [],
      "authorship_tag": "ABX9TyOL6OsKzNoytXRHGRfXBHBF",
      "include_colab_link": true
    },
    "kernelspec": {
      "name": "python3",
      "display_name": "Python 3"
    },
    "language_info": {
      "name": "python"
    }
  },
  "cells": [
    {
      "cell_type": "markdown",
      "metadata": {
        "id": "view-in-github",
        "colab_type": "text"
      },
      "source": [
        "<a href=\"https://colab.research.google.com/github/MadhukumarV/Python/blob/main/Variables%2Cidentifier%2Ckeywords.ipynb\" target=\"_parent\"><img src=\"https://colab.research.google.com/assets/colab-badge.svg\" alt=\"Open In Colab\"/></a>"
      ]
    },
    {
      "cell_type": "code",
      "execution_count": 1,
      "metadata": {
        "colab": {
          "base_uri": "https://localhost:8080/"
        },
        "id": "n0u-i1tWL_b9",
        "outputId": "6466a22e-dd64-4a49-859b-97b7c5f18ebb"
      },
      "outputs": [
        {
          "output_type": "stream",
          "name": "stdout",
          "text": [
            "3\n"
          ]
        }
      ],
      "source": [
        "# variables\n",
        "a = 1\n",
        "b = 2\n",
        "c =a+b\n",
        "print(c)"
      ]
    },
    {
      "cell_type": "code",
      "source": [
        "print (c+a)"
      ],
      "metadata": {
        "id": "15tPQnCMNvDc",
        "colab": {
          "base_uri": "https://localhost:8080/"
        },
        "outputId": "193aedb2-ed1e-483f-d216-f58c9b181a7a"
      },
      "execution_count": 2,
      "outputs": [
        {
          "output_type": "stream",
          "name": "stdout",
          "text": [
            "4\n"
          ]
        }
      ]
    },
    {
      "cell_type": "code",
      "source": [
        "#dynami typing\n",
        "a = 2\n",
        "b= 3\n",
        "c = 'mama'\n",
        "\n",
        "\n",
        "\"\"\" static typing\n",
        "int a =2\n",
        "int b = 3\n",
        "string c = 'mama'\n",
        "\"\"\"\n",
        "\n",
        "print(a+b+c)\n"
      ],
      "metadata": {
        "colab": {
          "base_uri": "https://localhost:8080/",
          "height": 176
        },
        "id": "qCmgoMFNTZQA",
        "outputId": "f99da81e-670b-489d-f532-4c7ae18c450f"
      },
      "execution_count": 9,
      "outputs": [
        {
          "output_type": "error",
          "ename": "TypeError",
          "evalue": "unsupported operand type(s) for +: 'int' and 'str'",
          "traceback": [
            "\u001b[0;31m---------------------------------------------------------------------------\u001b[0m",
            "\u001b[0;31mTypeError\u001b[0m                                 Traceback (most recent call last)",
            "\u001b[0;32m<ipython-input-9-266628910c2f>\u001b[0m in \u001b[0;36m<cell line: 13>\u001b[0;34m()\u001b[0m\n\u001b[1;32m     11\u001b[0m \"\"\"\n\u001b[1;32m     12\u001b[0m \u001b[0;34m\u001b[0m\u001b[0m\n\u001b[0;32m---> 13\u001b[0;31m \u001b[0mprint\u001b[0m\u001b[0;34m(\u001b[0m\u001b[0ma\u001b[0m\u001b[0;34m+\u001b[0m\u001b[0mb\u001b[0m\u001b[0;34m+\u001b[0m\u001b[0mc\u001b[0m\u001b[0;34m)\u001b[0m\u001b[0;34m\u001b[0m\u001b[0;34m\u001b[0m\u001b[0m\n\u001b[0m",
            "\u001b[0;31mTypeError\u001b[0m: unsupported operand type(s) for +: 'int' and 'str'"
          ]
        }
      ]
    },
    {
      "cell_type": "code",
      "source": [
        "# dynamic binding\n",
        "\n",
        "a=2\n",
        "b= \"max\"\n",
        "b=a\n",
        "print(b)"
      ],
      "metadata": {
        "colab": {
          "base_uri": "https://localhost:8080/"
        },
        "id": "zh9FAHDaXEyh",
        "outputId": "982a3a44-8587-4bd2-8cea-f6ca4c3c61d7"
      },
      "execution_count": 10,
      "outputs": [
        {
          "output_type": "stream",
          "name": "stdout",
          "text": [
            "2\n"
          ]
        }
      ]
    },
    {
      "cell_type": "code",
      "source": [
        "# static binding\n",
        "int a = 2\n",
        "str b = 'mam'\n",
        "str b = int a\n",
        ""
      ],
      "metadata": {
        "id": "Si1YhhOGXgTv"
      },
      "execution_count": null,
      "outputs": []
    },
    {
      "cell_type": "code",
      "source": [
        "**Keywords in python"
      ],
      "metadata": {
        "id": "LVERJJ55X12E"
      },
      "execution_count": null,
      "outputs": []
    },
    {
      "cell_type": "markdown",
      "source": [
        "***Keywords in python***\n",
        "\n",
        "\n",
        "\n",
        "None,break,\texcept,\tin\t,raise\n",
        "\n",
        "False\t,await\t,else\t,import\t,pass\n",
        "\n",
        "and,\tcontinue\t,for,\tlambda,\ttry\n",
        "\n",
        "True\t,class\t,finally\t,is\t,return\n",
        "\n",
        "as,\tdef,\tfrom,\tnonlocal,\twhile\n",
        "\n",
        "async,\telif,\tif\t,not,\twith\n",
        "\n",
        "assert,\tdel,\tglobal,\tor\t,yield\n",
        "\n"
      ],
      "metadata": {
        "id": "klaau4UZX9yN"
      }
    },
    {
      "cell_type": "code",
      "source": [
        "##Identifier\n",
        "#1) Variable cannot be start with numbers\n",
        "1a = 2\n",
        "print(1a)"
      ],
      "metadata": {
        "colab": {
          "base_uri": "https://localhost:8080/",
          "height": 106
        },
        "id": "BSMkd2DzZDwq",
        "outputId": "089e01e9-e674-4ff3-c891-690c48f9e5be"
      },
      "execution_count": 11,
      "outputs": [
        {
          "output_type": "error",
          "ename": "SyntaxError",
          "evalue": "invalid decimal literal (<ipython-input-11-e11ada6ccf27>, line 3)",
          "traceback": [
            "\u001b[0;36m  File \u001b[0;32m\"<ipython-input-11-e11ada6ccf27>\"\u001b[0;36m, line \u001b[0;32m3\u001b[0m\n\u001b[0;31m    1a = 2\u001b[0m\n\u001b[0m    ^\u001b[0m\n\u001b[0;31mSyntaxError\u001b[0m\u001b[0;31m:\u001b[0m invalid decimal literal\n"
          ]
        }
      ]
    },
    {
      "cell_type": "code",
      "source": [
        "#2) variable cannot contain any special charecters except _\n",
        " a@ = 2\n",
        " print(a@)\n"
      ],
      "metadata": {
        "colab": {
          "base_uri": "https://localhost:8080/",
          "height": 106
        },
        "id": "93slRTOCZswl",
        "outputId": "59465dc7-79cb-41be-8802-ee0fd69f6352"
      },
      "execution_count": 12,
      "outputs": [
        {
          "output_type": "error",
          "ename": "IndentationError",
          "evalue": "unexpected indent (<ipython-input-12-d32c36d32c39>, line 2)",
          "traceback": [
            "\u001b[0;36m  File \u001b[0;32m\"<ipython-input-12-d32c36d32c39>\"\u001b[0;36m, line \u001b[0;32m2\u001b[0m\n\u001b[0;31m    a@ = 2\u001b[0m\n\u001b[0m    ^\u001b[0m\n\u001b[0;31mIndentationError\u001b[0m\u001b[0;31m:\u001b[0m unexpected indent\n"
          ]
        }
      ]
    },
    {
      "cell_type": "code",
      "source": [
        "# varible with _\n",
        "_ = 'bad'\n",
        "print(_)"
      ],
      "metadata": {
        "colab": {
          "base_uri": "https://localhost:8080/"
        },
        "id": "B7GiN-QLaBxv",
        "outputId": "84fdca8d-2bfe-478b-c707-576dda149eaf"
      },
      "execution_count": 13,
      "outputs": [
        {
          "output_type": "stream",
          "name": "stdout",
          "text": [
            "bad\n"
          ]
        }
      ]
    },
    {
      "cell_type": "code",
      "source": [
        "_max =3\n",
        "print (_max)"
      ],
      "metadata": {
        "colab": {
          "base_uri": "https://localhost:8080/"
        },
        "id": "6sfq_gKMaKq9",
        "outputId": "2202f4ca-f6d0-4ac1-9319-b65742390513"
      },
      "execution_count": 14,
      "outputs": [
        {
          "output_type": "stream",
          "name": "stdout",
          "text": [
            "3\n"
          ]
        }
      ]
    },
    {
      "cell_type": "code",
      "source": [
        "b_ = 69\n",
        "print(b_)"
      ],
      "metadata": {
        "colab": {
          "base_uri": "https://localhost:8080/"
        },
        "id": "HVZ5n_GraQhN",
        "outputId": "e08c8693-c293-4eb6-a7db-1a04739b970e"
      },
      "execution_count": 15,
      "outputs": [
        {
          "output_type": "stream",
          "name": "stdout",
          "text": [
            "69\n"
          ]
        }
      ]
    },
    {
      "cell_type": "code",
      "source": [],
      "metadata": {
        "id": "7k7TdsEXaXYS"
      },
      "execution_count": null,
      "outputs": []
    }
  ]
}