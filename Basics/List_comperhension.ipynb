{
  "nbformat": 4,
  "nbformat_minor": 0,
  "metadata": {
    "colab": {
      "provenance": []
    },
    "kernelspec": {
      "name": "python3",
      "display_name": "Python 3"
    },
    "language_info": {
      "name": "python"
    }
  },
  "cells": [
    {
      "cell_type": "markdown",
      "source": [
        "## List Comperhension\n",
        "\n",
        "1.   simple to write\n",
        "2.   more effecient\n",
        "\n"
      ],
      "metadata": {
        "id": "yVkVpAHEWhUn"
      }
    },
    {
      "cell_type": "code",
      "source": [
        "##     List comperhension\n",
        " #    syntax : [expression for item in list]\n",
        "\n",
        "[i**2 for i in range(10)]\n"
      ],
      "metadata": {
        "colab": {
          "base_uri": "https://localhost:8080/"
        },
        "id": "gegQ1KnDWs5a",
        "outputId": "34f2922b-e2ef-49b4-932e-5189840814db"
      },
      "execution_count": 2,
      "outputs": [
        {
          "output_type": "execute_result",
          "data": {
            "text/plain": [
              "[0, 1, 4, 9, 16, 25, 36, 49, 64, 81]"
            ]
          },
          "metadata": {},
          "execution_count": 2
        }
      ]
    },
    {
      "cell_type": "code",
      "source": [
        "[i*j for i in [4,5,6,9] for j in [1,2,3,4]]"
      ],
      "metadata": {
        "colab": {
          "base_uri": "https://localhost:8080/"
        },
        "id": "M2LEkdsZXT_d",
        "outputId": "ceae3490-a364-4eed-8c8e-7c6023b25123"
      },
      "execution_count": 4,
      "outputs": [
        {
          "output_type": "execute_result",
          "data": {
            "text/plain": [
              "[4, 8, 12, 16, 5, 10, 15, 20, 6, 12, 18, 24, 9, 18, 27, 36]"
            ]
          },
          "metadata": {},
          "execution_count": 4
        }
      ]
    },
    {
      "cell_type": "code",
      "source": [
        "[i==j for i in \"madhu\" for j in [1,2,3,4,5]]"
      ],
      "metadata": {
        "colab": {
          "base_uri": "https://localhost:8080/"
        },
        "id": "S6ynluZ7XoOH",
        "outputId": "96a17372-fd89-46ed-f00d-8d91de9b6691"
      },
      "execution_count": 7,
      "outputs": [
        {
          "output_type": "execute_result",
          "data": {
            "text/plain": [
              "[False,\n",
              " False,\n",
              " False,\n",
              " False,\n",
              " False,\n",
              " False,\n",
              " False,\n",
              " False,\n",
              " False,\n",
              " False,\n",
              " False,\n",
              " False,\n",
              " False,\n",
              " False,\n",
              " False,\n",
              " False,\n",
              " False,\n",
              " False,\n",
              " False,\n",
              " False,\n",
              " False,\n",
              " False,\n",
              " False,\n",
              " False,\n",
              " False]"
            ]
          },
          "metadata": {},
          "execution_count": 7
        }
      ]
    },
    {
      "cell_type": "code",
      "source": [
        "#zip function\n",
        "l = [1,2,3,4,5]\n",
        "m = [6,7,8,9,10]\n",
        "list(zip(l,m))\n"
      ],
      "metadata": {
        "colab": {
          "base_uri": "https://localhost:8080/"
        },
        "id": "pXIjY8MpYQOX",
        "outputId": "8a89a4d5-be81-4810-af78-3271f6c2ffa4"
      },
      "execution_count": 12,
      "outputs": [
        {
          "output_type": "execute_result",
          "data": {
            "text/plain": [
              "[(1, 6), (2, 7), (3, 8), (4, 9), (5, 10)]"
            ]
          },
          "metadata": {},
          "execution_count": 12
        }
      ]
    },
    {
      "cell_type": "code",
      "source": [
        "zip(l,m)\n"
      ],
      "metadata": {
        "colab": {
          "base_uri": "https://localhost:8080/"
        },
        "id": "4K-0t7ncYJzd",
        "outputId": "d3538aa9-e091-4b3d-aee0-a2eaab633a2a"
      },
      "execution_count": 13,
      "outputs": [
        {
          "output_type": "execute_result",
          "data": {
            "text/plain": [
              "<zip at 0x7a270ac12800>"
            ]
          },
          "metadata": {},
          "execution_count": 13
        }
      ]
    },
    {
      "cell_type": "code",
      "source": [
        "# scalar multiplication\n",
        "\n",
        "v = [1,8,95,9]\n",
        "c = -3\n",
        "l =[]\n",
        "for i in v :\n",
        "   result = c*i\n",
        "   l.append(result)\n",
        "print(l)"
      ],
      "metadata": {
        "colab": {
          "base_uri": "https://localhost:8080/"
        },
        "id": "1yPju2nlZa5x",
        "outputId": "96ec286a-bec7-4a98-93d0-d342538cf529"
      },
      "execution_count": 17,
      "outputs": [
        {
          "output_type": "stream",
          "name": "stdout",
          "text": [
            "[-3, -24, -285, -27]\n"
          ]
        }
      ]
    },
    {
      "cell_type": "code",
      "source": [
        "l = [ i*c for i in v]\n",
        "print(l)"
      ],
      "metadata": {
        "colab": {
          "base_uri": "https://localhost:8080/"
        },
        "id": "U3h6jzvXb3E3",
        "outputId": "1db88310-a386-45fa-f857-78856d9b520f"
      },
      "execution_count": 19,
      "outputs": [
        {
          "output_type": "stream",
          "name": "stdout",
          "text": [
            "[-3, -24, -285, -27]\n"
          ]
        }
      ]
    },
    {
      "cell_type": "code",
      "source": [
        "l = [i**2 for i  in range(0,5)]\n",
        "print(l)"
      ],
      "metadata": {
        "colab": {
          "base_uri": "https://localhost:8080/"
        },
        "id": "w5lBxSWlcJDh",
        "outputId": "0ad4df02-54b6-4a13-dd4f-370f8158fb71"
      },
      "execution_count": 22,
      "outputs": [
        {
          "output_type": "stream",
          "name": "stdout",
          "text": [
            "[0, 1, 4, 9, 16]\n"
          ]
        }
      ]
    },
    {
      "cell_type": "code",
      "source": [
        "#find the name which start with m\n",
        "\n",
        "l = [\"abhi\",\"ram\",\"reddy\", \"madhu\",\"malli\"]\n",
        "m = [i for i in l if i.startswith(\"m\")]\n",
        "print(m)\n",
        "\n"
      ],
      "metadata": {
        "colab": {
          "base_uri": "https://localhost:8080/"
        },
        "id": "IaHcvHybcm7F",
        "outputId": "97d99862-29da-48b8-8c34-040356f16a07"
      },
      "execution_count": 25,
      "outputs": [
        {
          "output_type": "stream",
          "name": "stdout",
          "text": [
            "['madhu', 'malli']\n"
          ]
        }
      ]
    }
  ]
}