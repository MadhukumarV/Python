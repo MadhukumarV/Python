{
  "nbformat": 4,
  "nbformat_minor": 0,
  "metadata": {
    "colab": {
      "provenance": []
    },
    "kernelspec": {
      "name": "python3",
      "display_name": "Python 3"
    },
    "language_info": {
      "name": "python"
    }
  },
  "cells": [
    {
      "cell_type": "code",
      "execution_count": 1,
      "metadata": {
        "id": "uecmHlVrveLm"
      },
      "outputs": [],
      "source": [
        "# set functions in Pyhton\n",
        "\n",
        "#  common function\n",
        "\n",
        "# max\n",
        "# min\n",
        "# len\n",
        "# sort\n",
        "\n",
        "# isdisjoint\n",
        "# issubset\n",
        "# issuperset\n",
        "# copy"
      ]
    },
    {
      "cell_type": "code",
      "source": [
        "s =  {1,2,3,4,5}\n",
        "print(max(s))\n",
        "print (min(s))\n",
        "print (len(s))\n",
        "print (sorted(s,reverse= True))\n"
      ],
      "metadata": {
        "colab": {
          "base_uri": "https://localhost:8080/"
        },
        "id": "4C9i4uE1wY8G",
        "outputId": "927c6dd6-c9b5-477f-a9d1-9a700d928e16"
      },
      "execution_count": 5,
      "outputs": [
        {
          "output_type": "stream",
          "name": "stdout",
          "text": [
            "5\n",
            "1\n",
            "5\n",
            "[5, 4, 3, 2, 1]\n"
          ]
        }
      ]
    },
    {
      "cell_type": "code",
      "source": [
        "s = {1,2,3,4}\n",
        "s1 = {5,6,7}\n",
        "print(s1.isdisjoint(s))\n"
      ],
      "metadata": {
        "colab": {
          "base_uri": "https://localhost:8080/"
        },
        "id": "j9ClcDS5wmSF",
        "outputId": "1b56ad57-c07c-4ad7-9653-fd79c5dc9cf0"
      },
      "execution_count": 15,
      "outputs": [
        {
          "output_type": "stream",
          "name": "stdout",
          "text": [
            "True\n"
          ]
        }
      ]
    },
    {
      "cell_type": "code",
      "source": [
        "s = {1,23,22}\n",
        "s1 = {1,22}\n",
        "print(s1.issubset(s))\n"
      ],
      "metadata": {
        "colab": {
          "base_uri": "https://localhost:8080/"
        },
        "id": "ewl7PIZDxVuE",
        "outputId": "34f2d74f-35a5-4c14-ab48-cc44360d92b9"
      },
      "execution_count": 18,
      "outputs": [
        {
          "output_type": "stream",
          "name": "stdout",
          "text": [
            "True\n"
          ]
        }
      ]
    },
    {
      "cell_type": "code",
      "source": [
        "s = {1,55,66,99}\n",
        "s1 = {1,55,99}\n",
        "print(s.issuperset(s1))"
      ],
      "metadata": {
        "colab": {
          "base_uri": "https://localhost:8080/"
        },
        "id": "XX-tnSwtyklT",
        "outputId": "f9a6ced8-6b39-492e-9e5a-d82a49239f46"
      },
      "execution_count": 21,
      "outputs": [
        {
          "output_type": "stream",
          "name": "stdout",
          "text": [
            "True\n"
          ]
        }
      ]
    },
    {
      "cell_type": "code",
      "source": [
        " s2 = s.copy()\n",
        " print(s2)"
      ],
      "metadata": {
        "colab": {
          "base_uri": "https://localhost:8080/"
        },
        "id": "OtJoDGvkyxHD",
        "outputId": "d30e74da-771d-4f0a-bc46-0456b7409457"
      },
      "execution_count": 22,
      "outputs": [
        {
          "output_type": "stream",
          "name": "stdout",
          "text": [
            "{1, 66, 99, 55}\n"
          ]
        }
      ]
    },
    {
      "cell_type": "code",
      "source": [],
      "metadata": {
        "id": "dClxmcoQy-5h"
      },
      "execution_count": 26,
      "outputs": []
    },
    {
      "cell_type": "code",
      "source": [],
      "metadata": {
        "id": "-oTvz6Q6zGFO"
      },
      "execution_count": null,
      "outputs": []
    }
  ]
}