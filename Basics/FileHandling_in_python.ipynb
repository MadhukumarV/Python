{
  "nbformat": 4,
  "nbformat_minor": 0,
  "metadata": {
    "colab": {
      "provenance": []
    },
    "kernelspec": {
      "name": "python3",
      "display_name": "Python 3"
    },
    "language_info": {
      "name": "python"
    }
  },
  "cells": [
    {
      "cell_type": "code",
      "execution_count": 1,
      "metadata": {
        "id": "9LspGQnOhBM1"
      },
      "outputs": [],
      "source": [
        "f = open(\"/content/sample_data/mad.txt\",\"w\")\n",
        "f.write('hello world')\n",
        "f.close()"
      ]
    },
    {
      "cell_type": "code",
      "source": [
        "f = open(\"/content/sample_data/mad.txt\",\"r\")\n",
        "print(f.read())\n",
        "f.close()"
      ],
      "metadata": {
        "colab": {
          "base_uri": "https://localhost:8080/"
        },
        "id": "KAdEFBkOhpuG",
        "outputId": "43a39a72-a4c7-41bd-a816-64a672fd1a0b"
      },
      "execution_count": 15,
      "outputs": [
        {
          "output_type": "stream",
          "name": "stdout",
          "text": [
            "hello world\n",
            "hello mama\n",
            "dhkjadcnkja\n",
            "adkakcijsncks\n",
            "kjacnknkjnkj\n",
            "ckaJNCJnckjn\n",
            "\n"
          ]
        }
      ]
    },
    {
      "cell_type": "code",
      "source": [
        "f = open(\"/content/sample_data/mad.txt\",\"w\")\n",
        "f.write('hello world')\n",
        "f.write('\\nhello mama')\n",
        "f.close()"
      ],
      "metadata": {
        "id": "TzI9jjIDiM6Z"
      },
      "execution_count": 6,
      "outputs": []
    },
    {
      "cell_type": "code",
      "source": [
        "f = open(\"/content/sample_data/mad.txt\",\"r\")\n",
        "print(f.readline(),end='')     # reads only first line\n",
        "f.close()"
      ],
      "metadata": {
        "colab": {
          "base_uri": "https://localhost:8080/"
        },
        "id": "goUdOEE5ied0",
        "outputId": "c5c82ce2-db62-40f3-aebd-b3faab709189"
      },
      "execution_count": 18,
      "outputs": [
        {
          "output_type": "stream",
          "name": "stdout",
          "text": [
            "hello world\n"
          ]
        }
      ]
    },
    {
      "cell_type": "code",
      "source": [
        "#reading using entire line\n",
        "\n",
        "f =  open(\"/content/sample_data/mad.txt\",\"r\")\n",
        "while True:\n",
        "  data = f.readline()\n",
        "  if data == '':\n",
        "    break\n",
        "  else :\n",
        "    print(data,end='')\n",
        "f.close()"
      ],
      "metadata": {
        "colab": {
          "base_uri": "https://localhost:8080/"
        },
        "id": "euXnA8MCi7h2",
        "outputId": "36a72961-58ca-4836-f19e-7e9ec52efeb5"
      },
      "execution_count": 14,
      "outputs": [
        {
          "output_type": "stream",
          "name": "stdout",
          "text": [
            "hello world\n",
            "hello mama\n",
            "dhkjadcnkja\n",
            "adkakcijsncks\n",
            "kjacnknkjnkj\n",
            "ckaJNCJnckjn\n"
          ]
        }
      ]
    },
    {
      "cell_type": "code",
      "source": [
        "# file handling using context manager(WITH)\n",
        "with open(\"/content/sample_data/mad.txt\",\"r\") as f:\n",
        "  print(f.read())           # auto close the file"
      ],
      "metadata": {
        "colab": {
          "base_uri": "https://localhost:8080/"
        },
        "id": "QG136QoWj8BE",
        "outputId": "cac823a8-72a4-4a93-e7e1-d6f2a6ca9a79"
      },
      "execution_count": 16,
      "outputs": [
        {
          "output_type": "stream",
          "name": "stdout",
          "text": [
            "hello world\n",
            "hello mama\n",
            "dhkjadcnkja\n",
            "adkakcijsncks\n",
            "kjacnknkjnkj\n",
            "ckaJNCJnckjn\n",
            "\n"
          ]
        }
      ]
    },
    {
      "cell_type": "code",
      "source": [
        "#append\n",
        "with open(\"/content/sample_data/mad.txt\",\"a\") as f:\n",
        "  print(f.write('\\nhello mama'))"
      ],
      "metadata": {
        "colab": {
          "base_uri": "https://localhost:8080/"
        },
        "id": "cuxg44FBkd5c",
        "outputId": "b19c6367-a4a6-4ec4-dc83-89f6bf416046"
      },
      "execution_count": 20,
      "outputs": [
        {
          "output_type": "stream",
          "name": "stdout",
          "text": [
            "11\n"
          ]
        }
      ]
    },
    {
      "cell_type": "code",
      "source": [
        "# prompt: append  in file handling\n",
        "\n",
        "with open(\"/content/sample_data/mad.txt\", \"a\") as f:\n",
        "  f.write(\"\\nThis is appended text.\")\n",
        "\n",
        "with open(\"/content/sample_data/mad.txt\", \"r\") as f:\n",
        "  print(f.read())"
      ],
      "metadata": {
        "colab": {
          "base_uri": "https://localhost:8080/"
        },
        "id": "sx7kTPOxl0kO",
        "outputId": "6241208d-93fd-4c46-b38a-24ee82964e7b"
      },
      "execution_count": 22,
      "outputs": [
        {
          "output_type": "stream",
          "name": "stdout",
          "text": [
            "hello world\n",
            "hello mama\n",
            "dhkjadcnkja\n",
            "adkakcijsncks\n",
            "kjacnknkjnkj\n",
            "ckaJNCJnckjn\n",
            "\n",
            "hello mama\n",
            "hello mama\n",
            "This is appended text.\n",
            "This is appended text.\n"
          ]
        }
      ]
    }
  ]
}