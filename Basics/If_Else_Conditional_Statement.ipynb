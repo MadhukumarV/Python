{
  "nbformat": 4,
  "nbformat_minor": 0,
  "metadata": {
    "colab": {
      "provenance": []
    },
    "kernelspec": {
      "name": "python3",
      "display_name": "Python 3"
    },
    "language_info": {
      "name": "python"
    }
  },
  "cells": [
    {
      "cell_type": "markdown",
      "source": [
        "**If Else Conditional Statement**\n"
      ],
      "metadata": {
        "id": "DZxtxirze1Us"
      }
    },
    {
      "cell_type": "code",
      "source": [
        "#if else conditional statement\n",
        "\n",
        "#login credential\n",
        "# username = madhu8323@gmail.com\n",
        "# password = 1432\n",
        "\n",
        "username = input(\"Enter your username: \")\n",
        "password = input(\"Enter your password: \")\n",
        "\n",
        "def log_in():\n",
        "  if username == \"madhu8323@gmail.com\" and password == \"1432\":\n",
        "    print(\"Login Successful\")\n",
        "  else:\n",
        "    print(\"Login Failed\")\n",
        "\n",
        "log_in()\n"
      ],
      "metadata": {
        "colab": {
          "base_uri": "https://localhost:8080/"
        },
        "id": "CEBEWt4YfE8X",
        "outputId": "bba8c4d2-78aa-4bb4-cfce-890fbb76435d"
      },
      "execution_count": 2,
      "outputs": [
        {
          "output_type": "stream",
          "name": "stdout",
          "text": [
            "Enter your username: ddsad@gmail\n",
            "Enter your password: 2263\n",
            "Login Failed\n"
          ]
        }
      ]
    },
    {
      "cell_type": "code",
      "source": [
        "#elif\n",
        "#if elif else\n",
        "\n",
        "username = input(\"Enter your username: \")\n",
        "password = input(\"Enter your password: \")\n",
        "\n",
        "def log_in():\n",
        "  if username == \"madhu8323@gmail.com\" and password == \"1432\":\n",
        "    print(\"Login Successful  \\n\\n**enjoy Pandagooo**\")\n",
        "  elif username != \"madhu8323@gmail.com\" and password == \"1432\":\n",
        "    print(\"Incorrect Username\")\n",
        "  elif username == \"madhu8323@gmail.com\" and password != \"1432\":\n",
        "    print(\"Incorrect Password\")\n",
        "  else:\n",
        "    print(\"Login Failed,Try again\")\n",
        "\n",
        "log_in()\n",
        "\n"
      ],
      "metadata": {
        "colab": {
          "base_uri": "https://localhost:8080/"
        },
        "id": "Z-eX3LZVgKao",
        "outputId": "d51cd7de-3271-4db5-c176-b1d3f0b74885"
      },
      "execution_count": 19,
      "outputs": [
        {
          "output_type": "stream",
          "name": "stdout",
          "text": [
            "Enter your username: madhu8323@gmail.com\n",
            "Enter your password: 1432\n",
            "Login Successful  \n",
            "\n",
            "**enjoy Pandagooo**\n"
          ]
        }
      ]
    },
    {
      "cell_type": "code",
      "source": [
        "#elif\n",
        "#if elif else\n",
        "\n",
        "username = input(\"Enter your username: \")\n",
        "password = input(\"Enter your password: \")\n",
        "\n",
        "def log_in():\n",
        "  if username == \"madhu8323@gmail.com\" and password == \"1432\":\n",
        "    print(\"Login Successful  \\n\\n**enjoy Pandagooo**\")\n",
        "  elif username != \"madhu8323@gmail.com\" and password == \"1432\":\n",
        "    print(\"Incorrect Username\")\n",
        "  elif username == \"madhu8323@gmail.com\" and password != \"1432\":\n",
        "    print(\"Incorrect Password\")\n",
        "  else:\n",
        "    print(\"Login Failed,Try again\")\n",
        "\n",
        "log_in()"
      ],
      "metadata": {
        "colab": {
          "base_uri": "https://localhost:8080/"
        },
        "id": "kFCK85ixljyB",
        "outputId": "f917d3b8-cf40-4aa9-bed0-07a679ec79c1"
      },
      "execution_count": 21,
      "outputs": [
        {
          "output_type": "stream",
          "name": "stdout",
          "text": [
            "Enter your username: sads@gmail.com\n",
            "Enter your password: 1589\n",
            "Login Failed,Try again\n"
          ]
        }
      ]
    }
  ]
}