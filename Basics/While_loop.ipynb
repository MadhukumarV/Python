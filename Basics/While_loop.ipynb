{
  "nbformat": 4,
  "nbformat_minor": 0,
  "metadata": {
    "colab": {
      "provenance": [],
      "toc_visible": true
    },
    "kernelspec": {
      "name": "python3",
      "display_name": "Python 3"
    },
    "language_info": {
      "name": "python"
    }
  },
  "cells": [
    {
      "cell_type": "code",
      "execution_count": 3,
      "metadata": {
        "colab": {
          "base_uri": "https://localhost:8080/"
        },
        "id": "Frz1qMyYWJQ2",
        "outputId": "7ad2b447-3bd1-4130-9f49-1bab7689b45b"
      },
      "outputs": [
        {
          "output_type": "stream",
          "name": "stdout",
          "text": [
            "0\n",
            "1\n",
            "2\n",
            "3\n",
            "4\n",
            "5\n",
            "6\n",
            "7\n",
            "8\n",
            "9\n"
          ]
        }
      ],
      "source": [
        "#Loops in python\n",
        "#while\n",
        "\n",
        "x = 0\n",
        "while x < 10:\n",
        "    print(x)\n",
        "    x = x + 1\n",
        "\n"
      ]
    },
    {
      "cell_type": "code",
      "source": [
        "x = \"Madhu\"\n",
        "i = 1\n",
        "while i < 11:\n",
        "  print(x)\n",
        "  i += 1\n"
      ],
      "metadata": {
        "colab": {
          "base_uri": "https://localhost:8080/"
        },
        "id": "-q_bIa2qWyT1",
        "outputId": "a5eb8200-59d3-4001-ae1e-cb283326b5a2"
      },
      "execution_count": 6,
      "outputs": [
        {
          "output_type": "stream",
          "name": "stdout",
          "text": [
            "Madhu\n",
            "Madhu\n",
            "Madhu\n",
            "Madhu\n",
            "Madhu\n",
            "Madhu\n",
            "Madhu\n",
            "Madhu\n",
            "Madhu\n",
            "Madhu\n"
          ]
        }
      ]
    },
    {
      "cell_type": "code",
      "source": [
        "import random\n",
        "\n",
        "x = random.randint(1,10)\n",
        "\n",
        "num = int(input(\"Enter the number :\"))\n",
        "count = 1\n",
        "while num != x:\n",
        "  if num < x:\n",
        "   print(\"Wrong guess enter higher\")\n",
        "   num = int(input(\"Enter the number :\"))\n",
        "  else:\n",
        "   print(\"Wrong guess  enter lower\")\n",
        "   num = int(input(\"Enter the number :\"))\n",
        "  count += 1\n",
        "else:\n",
        "  print(\"--Jackpot Correct guess --\")\n",
        "  print(\"--You took\",count,\"attempts--\")\n"
      ],
      "metadata": {
        "colab": {
          "base_uri": "https://localhost:8080/"
        },
        "id": "t0PrPh-XY_0Y",
        "outputId": "8aadebeb-4f17-4939-bb05-d0b6d6ce2c5c"
      },
      "execution_count": 20,
      "outputs": [
        {
          "output_type": "stream",
          "name": "stdout",
          "text": [
            "Enter the number :1\n",
            "Wrong guess enter higher\n",
            "Enter the number :2\n",
            "Wrong guess enter higher\n",
            "Enter the number :3\n",
            "--Jackpot Correct guess --\n",
            "--You took 3 attempts--\n"
          ]
        }
      ]
    }
  ]
}