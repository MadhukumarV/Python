{
  "nbformat": 4,
  "nbformat_minor": 0,
  "metadata": {
    "colab": {
      "provenance": []
    },
    "kernelspec": {
      "name": "python3",
      "display_name": "Python 3"
    },
    "language_info": {
      "name": "python"
    }
  },
  "cells": [
    {
      "cell_type": "code",
      "source": [
        "# writing a file\n",
        "with open('/content/sample_data/sample.txt','w')as f:\n",
        "  f.write(\"hello brother\")"
      ],
      "metadata": {
        "id": "qGJLJvLjxDew"
      },
      "execution_count": 2,
      "outputs": []
    },
    {
      "cell_type": "code",
      "source": [
        "#reading a file\n",
        "with open('/content/sample_data/sample.txt','r')as f:\n",
        "  print(f.read())"
      ],
      "metadata": {
        "colab": {
          "base_uri": "https://localhost:8080/"
        },
        "id": "DLIhuJ_VxZPq",
        "outputId": "2cfe8eb3-337c-4783-909e-5b061760c46f"
      },
      "execution_count": 3,
      "outputs": [
        {
          "output_type": "stream",
          "name": "stdout",
          "text": [
            "hello brother\n"
          ]
        }
      ]
    },
    {
      "cell_type": "code",
      "source": [
        "#append\n",
        "with open('/content/sample_data/sample.txt','a')as f:\n",
        "  f.write(\"\\ngood morning\")"
      ],
      "metadata": {
        "id": "k-jR_jiM0til"
      },
      "execution_count": 7,
      "outputs": []
    },
    {
      "cell_type": "code",
      "source": [
        "#reading a file by n no.\n",
        "with open('/content/sample_data/sample.txt','r')as f:\n",
        "  print(f.read(5))"
      ],
      "metadata": {
        "colab": {
          "base_uri": "https://localhost:8080/"
        },
        "id": "Re9s-N4c0122",
        "outputId": "991cd0d1-614b-4757-daa7-650feefd1900"
      },
      "execution_count": 5,
      "outputs": [
        {
          "output_type": "stream",
          "name": "stdout",
          "text": [
            "hello\n"
          ]
        }
      ]
    },
    {
      "cell_type": "code",
      "source": [
        "#reading a file by readline\n",
        "with open('/content/sample_data/sample.txt','r')as f:\n",
        "  print(f.readline())"
      ],
      "metadata": {
        "colab": {
          "base_uri": "https://localhost:8080/"
        },
        "id": "WwRNDmeW1B8S",
        "outputId": "33526409-12b0-4bab-d710-17955fd8d8fa"
      },
      "execution_count": 8,
      "outputs": [
        {
          "output_type": "stream",
          "name": "stdout",
          "text": [
            "hello brother\n",
            "\n"
          ]
        }
      ]
    },
    {
      "cell_type": "code",
      "source": [
        "\n",
        "# read line by line\n",
        "with open('/content/sample_data/sample.txt','r')as f:\n",
        "  print(f.readline(),end=\"\")\n",
        "  print(f.readline(),end=\"\")"
      ],
      "metadata": {
        "colab": {
          "base_uri": "https://localhost:8080/"
        },
        "id": "qhURIsEa1x9g",
        "outputId": "d674789a-8a55-4ba8-e581-60f343446803"
      },
      "execution_count": 15,
      "outputs": [
        {
          "output_type": "stream",
          "name": "stdout",
          "text": [
            "hello brother\n",
            "good morning"
          ]
        }
      ]
    },
    {
      "cell_type": "code",
      "source": [
        "# read  by read mode(moving within a file)\n",
        "with open('/content/sample_data/sample.txt','r')as f:\n",
        "  print(f.read(10))\n",
        "  print(f.read(10))"
      ],
      "metadata": {
        "colab": {
          "base_uri": "https://localhost:8080/"
        },
        "id": "muFMoLlO2wWF",
        "outputId": "4ef5db02-4f8b-400f-8185-29c20f9aa962"
      },
      "execution_count": 16,
      "outputs": [
        {
          "output_type": "stream",
          "name": "stdout",
          "text": [
            "hello brot\n",
            "her\n",
            "good m\n"
          ]
        }
      ]
    },
    {
      "cell_type": "code",
      "source": [
        "#to load big file in memory (not recommended for huge files)\n",
        "\n",
        "Big_l = [' hello world ' for i in range(1000)]\n",
        "\n",
        "with open('/content/sample_data/sample2.txt','w')as f:\n",
        "  f.writelines(Big_l)"
      ],
      "metadata": {
        "id": "0B9Lb7I724G9"
      },
      "execution_count": 19,
      "outputs": []
    },
    {
      "cell_type": "code",
      "source": [
        "# save memory (efficient way to read large files)\n",
        "with open('/content/sample_data/sample2.txt','r')as f:\n",
        "  chunk_size = 10\n",
        "  while len(f.read(chunk_size))>0:\n",
        "    print( f.read(chunk_size),end=\"\")\n",
        "    f.read(chunk_size)"
      ],
      "metadata": {
        "colab": {
          "base_uri": "https://localhost:8080/"
        },
        "id": "p79xgpE-3eAo",
        "outputId": "c007660d-76cd-4fb3-9723-63ac9b63073a"
      },
      "execution_count": 22,
      "outputs": [
        {
          "output_type": "stream",
          "name": "stdout",
          "text": [
            "ld  hello hello worlo world  hrld  hello hello worlo world  orld  hell  hello wollo world world  held  hello wello world world  held  hello hello worlo world  hrld  hello hello worlo world  orld  hell  hello wollo world world  held  hello wello world world  held  hello hello worlo world  hrld  hello hello worlo world  orld  hell  hello wollo world world  held  hello wello world world  held  hello hello worlo world  hrld  hello hello worlo world  orld  hell  hello wollo world world  held  hello wello world world  held  hello hello worlo world  hrld  hello hello worlo world  orld  hell  hello wollo world world  held  hello wello world world  held  hello hello worlo world  hrld  hello hello worlo world  orld  hell  hello wollo world world  held  hello wello world world  held  hello hello worlo world  hrld  hello hello worlo world  orld  hell  hello wollo world world  held  hello wello world world  held  hello hello worlo world  hrld  hello hello worlo world  orld  hell  hello wollo world world  held  hello wello world world  held  hello hello worlo world  hrld  hello hello worlo world  orld  hell  hello wollo world world  held  hello wello world world  held  hello hello worlo world  hrld  hello hello worlo world  orld  hell  hello wollo world world  held  hello wello world world  held  hello hello worlo world  hrld  hello hello worlo world  orld  hell  hello wollo world world  held  hello wello world world  held  hello hello worlo world  hrld  hello hello worlo world  orld  hell  hello wollo world world  held  hello wello world world  held  hello hello worlo world  hrld  hello hello worlo world  orld  hell  hello wollo world world  held  hello wello world world  held  hello hello worlo world  hrld  hello hello worlo world  orld  hell  hello wollo world world  held  hello wello world world  held  hello hello worlo world  hrld  hello hello worlo world  orld  hell  hello wollo world world  held  hello wello world world  held  hello hello worlo world  hrld  hello hello worlo world  orld  hell  hello wollo world world  held  hello wello world world  held  hello hello worlo world  hrld  hello hello worlo world  orld  hell  hello wollo world world  held  hello wello world world  held  hello hello worlo world  hrld  hello hello worlo world  orld  hell  hello wollo world world  held  hello wello world world  held  hello hello worlo world  hrld  hello hello worlo world  orld  hell  hello wollo world world  held  hello wello world world  held  hello hello worlo world  hrld  hello hello worlo world  orld  hell  hello wollo world world  held  hello wello world world  held  hello hello worlo world  hrld  hello hello worlo world  orld  hell  hello wollo world world  held  hello wello world world  held  hello hello worlo world  hrld  hello hello worlo world  orld  hell  hello wollo world world  held  hello wello world world  held  hello hello worlo world  hrld  hello hello worlo world  orld  hell  hello wollo world world  held  hello wello world world  held  hello hello worlo world  hrld  hello hello worlo world  orld  hell  hello wollo world world  held  hello wello world world  held  hello hello worlo world  hrld  hello hello worlo world  orld  hell  hello wollo world world  held  hello wello world world  held  hello hello worlo world  hrld  hello hello worlo world  orld  hell  hello wollo world world  held  hello wello world world  held  hello hello worlo world  hrld  hello hello worlo world  orld  hell  hello wollo world world  held  hello wello world world  held  hello hello worlo world  hrld  hello hello worlo world  orld  hell  hello wollo world world  held  hello wello world world  held  hello hello worlo world  hrld  hello hello worlo world  orld  hell  hello wollo world world  held  hello wello world world  held  hello hello worlo world  hrld  hello hello worlo world  orld  hell  hello wollo world world  held  hello wello world world  held  hello hello worlo world  hrld  hello hello worlo world  orld  hell  hello wollo world world  held  hello wello world world  held  hello hello worlo world  hrld  hello hello worlo world  orld  hell  hello wollo world world  held  hello wello world world  held  hello hello worlo world  hrld  hello hello worlo world  orld  hell  hello wollo world world  held  hello wello world world  held  hello hello worlo world  hrld  hello"
          ]
        }
      ]
    },
    {
      "cell_type": "code",
      "source": [
        "# Seek and tell\n",
        "\n",
        "#tell (gives the cursor position)\n",
        "\n",
        "with open('/content/sample_data/sample2.txt','r')as f:\n",
        "  print(f.read(15))\n",
        "  print(f.tell())"
      ],
      "metadata": {
        "colab": {
          "base_uri": "https://localhost:8080/"
        },
        "id": "4Ha5lBaI4jJo",
        "outputId": "62ab21cd-fc74-449c-fc8c-54101bdcaff3"
      },
      "execution_count": 26,
      "outputs": [
        {
          "output_type": "stream",
          "name": "stdout",
          "text": [
            " hello world  h\n",
            "15\n"
          ]
        }
      ]
    },
    {
      "cell_type": "code",
      "source": [
        "#seek (moves the cursor to a specific position)\n",
        "with open('/content/sample_data/sample2.txt','r')as f:\n",
        "  print(f.read(15))\n",
        "  print(f.seek(2))\n",
        "  print(f.read(15))\n",
        "  print(f.tell())\n",
        ""
      ],
      "metadata": {
        "colab": {
          "base_uri": "https://localhost:8080/"
        },
        "id": "LVJJ94OZ5si_",
        "outputId": "d4e7d6de-2ba9-493e-e91a-16a80e11e2ed"
      },
      "execution_count": 33,
      "outputs": [
        {
          "output_type": "stream",
          "name": "stdout",
          "text": [
            " hello world  h\n",
            "2\n",
            "ello world  hel\n",
            "17\n"
          ]
        }
      ]
    },
    {
      "cell_type": "code",
      "source": [
        "# problems with working text files\n",
        "\n",
        "#cant work with binary files like img,music,video\n",
        "#not good for other data type like int,float,list,dic"
      ],
      "metadata": {
        "id": "o6Gf548N7Sqr"
      },
      "execution_count": 34,
      "outputs": []
    },
    {
      "cell_type": "code",
      "source": [
        "# prompt: #serialization and deserialization defination\n",
        "\n",
        "import pickle\n",
        "\n",
        "# Serialization (saving data to a file)\n",
        "data = {\n",
        "    'name': 'John Doe',\n",
        "    'age': 30,\n",
        "    'city': 'New York'\n",
        "}\n",
        "\n",
        "with open('/content/sample_data/data.pickle', 'wb') as file:  # Use 'wb' for binary write mode\n",
        "    pickle.dump(data, file)\n",
        "\n",
        "# Deserialization (loading data from a file)\n",
        "with open('/content/sample_data/data.pickle', 'rb') as file:  # Use 'rb' for binary read mode\n",
        "    loaded_data = pickle.load(file)\n",
        "\n",
        "print(loaded_data) # Output: {'name': 'John Doe', 'age': 30, 'city': 'New York'}\n",
        "\n",
        "\n",
        "# Example with a list of numbers\n",
        "numbers = [1, 2, 3, 4, 5]\n",
        "\n",
        "with open('/content/sample_data/numbers.pickle', 'wb') as file:\n",
        "  pickle.dump(numbers, file)\n",
        "\n",
        "\n",
        "with open('/content/sample_data/numbers.pickle', 'rb') as file:\n",
        "    loaded_numbers = pickle.load(file)\n",
        "\n",
        "print(loaded_numbers) # Output: [1, 2, 3, 4, 5]"
      ],
      "metadata": {
        "id": "DizGhOlr76I9"
      },
      "execution_count": null,
      "outputs": []
    },
    {
      "cell_type": "code",
      "source": [
        "#serialization (converting python data type to json format)\n",
        "\n",
        "#list\n",
        "l = [1,2,3,4,5]\n",
        "import json\n",
        "with open('/content/sample_data/list.json','w')as f:\n",
        "  json.dump(l,f)"
      ],
      "metadata": {
        "id": "fH9roIFv8EG8"
      },
      "execution_count": 36,
      "outputs": []
    },
    {
      "cell_type": "code",
      "source": [
        "# dic\n",
        "d = {\n",
        "    'name': 'John Doe',\n",
        "    'age': 30,\n",
        "    'city': 'New York'\n",
        "}\n",
        "\n",
        "with open('/content/sample_data/dic.json','w')as f:\n",
        "  json.dump(d,f)"
      ],
      "metadata": {
        "id": "bQR3GJiR8cnn"
      },
      "execution_count": 37,
      "outputs": []
    },
    {
      "cell_type": "code",
      "source": [
        "# deserialization (converting json to python data type)\n",
        "\n",
        "import json\n",
        "with open('/content/sample_data/list.json','r')as f:\n",
        "  data = (json.load(f))\n",
        "  print(data)\n",
        "  print(type(data))\n"
      ],
      "metadata": {
        "colab": {
          "base_uri": "https://localhost:8080/"
        },
        "id": "hwzhs3Xb8uW4",
        "outputId": "6aa479ef-fbfc-4af8-ec42-839458bceccd"
      },
      "execution_count": 39,
      "outputs": [
        {
          "output_type": "stream",
          "name": "stdout",
          "text": [
            "[1, 2, 3, 4, 5]\n",
            "<class 'list'>\n"
          ]
        }
      ]
    },
    {
      "cell_type": "code",
      "source": [
        "#pickiling in python\n",
        "def display_info():\n",
        "  print(\"hello world\")\n",
        "d = display_info()\n",
        "import pickle #binary to object hirearchy\n",
        "with open('/content/sample_data/list.pickle','wb')as f:\n",
        "  pickle.dump(d,f)\n"
      ],
      "metadata": {
        "colab": {
          "base_uri": "https://localhost:8080/"
        },
        "id": "_MAGCWh39g59",
        "outputId": "0ab53e36-6ea1-4c10-8b2f-03f06ea53331"
      },
      "execution_count": 42,
      "outputs": [
        {
          "output_type": "stream",
          "name": "stdout",
          "text": [
            "hello world\n"
          ]
        }
      ]
    },
    {
      "cell_type": "code",
      "source": [
        "# pickle load\n",
        "\n",
        "import pickle\n",
        "with open('/content/sample_data/list.pickle','rb')as f:\n",
        "  data = pickle.load(f)\n",
        "  print(data)\n",
        ""
      ],
      "metadata": {
        "colab": {
          "base_uri": "https://localhost:8080/"
        },
        "id": "pUfa7lxP-VCZ",
        "outputId": "400c56c6-4963-405d-83de-0cdcdf7490f3"
      },
      "execution_count": 48,
      "outputs": [
        {
          "output_type": "stream",
          "name": "stdout",
          "text": [
            "None\n"
          ]
        }
      ]
    },
    {
      "cell_type": "code",
      "source": [],
      "metadata": {
        "id": "0gjmDMpJ-f0g"
      },
      "execution_count": null,
      "outputs": []
    }
  ]
}