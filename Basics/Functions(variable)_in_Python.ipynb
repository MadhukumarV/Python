{
  "nbformat": 4,
  "nbformat_minor": 0,
  "metadata": {
    "colab": {
      "provenance": []
    },
    "kernelspec": {
      "name": "python3",
      "display_name": "Python 3"
    },
    "language_info": {
      "name": "python"
    }
  },
  "cells": [
    {
      "cell_type": "code",
      "source": [
        "# function with return statement\n",
        "def even_odd(num):\n",
        "  if num % 2 == 0:\n",
        "    print('Even number')\n",
        "  else:\n",
        "    print('Odd number')\n",
        ""
      ],
      "metadata": {
        "id": "zKxmulW3FB9F"
      },
      "execution_count": 5,
      "outputs": []
    },
    {
      "cell_type": "code",
      "source": [
        "print(even_odd(2))"
      ],
      "metadata": {
        "id": "TKdustfFFNcz",
        "colab": {
          "base_uri": "https://localhost:8080/"
        },
        "outputId": "6c04cadf-edd9-4d72-e692-8b8c560110ad"
      },
      "execution_count": 6,
      "outputs": [
        {
          "output_type": "stream",
          "name": "stdout",
          "text": [
            "Even number\n",
            "None\n"
          ]
        }
      ]
    },
    {
      "cell_type": "code",
      "source": [
        "#Variable  scope in function\n",
        "\n",
        "def g(y):\n",
        "  print(x)\n",
        "  print(x+1)\n",
        "x=5\n",
        "g(x)\n",
        "print(x)"
      ],
      "metadata": {
        "colab": {
          "base_uri": "https://localhost:8080/"
        },
        "id": "QpYps5zcFvOn",
        "outputId": "f4314c18-becb-466a-cb8b-76e8344f2d31"
      },
      "execution_count": 7,
      "outputs": [
        {
          "output_type": "stream",
          "name": "stdout",
          "text": [
            "5\n",
            "6\n",
            "5\n"
          ]
        }
      ]
    },
    {
      "cell_type": "code",
      "source": [
        "# nested funtion\n",
        "\n",
        "def f():\n",
        "  s='I love India'\n",
        "  def g():\n",
        "    print(s)\n",
        "  g()\n",
        "f()"
      ],
      "metadata": {
        "colab": {
          "base_uri": "https://localhost:8080/"
        },
        "id": "fNMxqYiXGb3u",
        "outputId": "f2ca79b5-c0e3-4a13-b28f-27f68f0577fd"
      },
      "execution_count": 8,
      "outputs": [
        {
          "output_type": "stream",
          "name": "stdout",
          "text": [
            "I love India\n"
          ]
        }
      ]
    },
    {
      "cell_type": "code",
      "source": [
        "def f(y):\n",
        "  x = 1\n",
        "  x+= 1\n",
        "  print(x)"
      ],
      "metadata": {
        "id": "ez1fz-mwHMr0"
      },
      "execution_count": 14,
      "outputs": []
    },
    {
      "cell_type": "code",
      "source": [
        "f(6)"
      ],
      "metadata": {
        "colab": {
          "base_uri": "https://localhost:8080/"
        },
        "id": "cN9sca-LHYfl",
        "outputId": "d12cc5ab-b74a-4d31-8f5a-9459d83f95cb"
      },
      "execution_count": 16,
      "outputs": [
        {
          "output_type": "stream",
          "name": "stdout",
          "text": [
            "2\n"
          ]
        }
      ]
    },
    {
      "cell_type": "code",
      "source": [
        "# functions are 1st class citizen\n",
        "\n",
        "#type and Id\n",
        "\n",
        "a =  2\n",
        "print(type(a))\n",
        "print(id(a))"
      ],
      "metadata": {
        "colab": {
          "base_uri": "https://localhost:8080/"
        },
        "id": "oiG4_uP4H1he",
        "outputId": "fa4d47a3-93fb-4c36-b269-3254987c5a51"
      },
      "execution_count": 17,
      "outputs": [
        {
          "output_type": "stream",
          "name": "stdout",
          "text": [
            "<class 'int'>\n",
            "137523079921936\n"
          ]
        }
      ]
    },
    {
      "cell_type": "code",
      "source": [
        "\n",
        "\n",
        "def sqaure(num):\n",
        "  return num**2\n",
        "  print(type (sqaure()))\n",
        "  print(id(sqaure()) )\n"
      ],
      "metadata": {
        "id": "ORVxm5cKIuOu"
      },
      "execution_count": 31,
      "outputs": []
    },
    {
      "cell_type": "code",
      "source": [
        "# reassign variable\n",
        "\n",
        "x = sqaure(6)\n",
        "print(id(x))\n",
        "x = 4"
      ],
      "metadata": {
        "colab": {
          "base_uri": "https://localhost:8080/"
        },
        "id": "6NzIJiDxI8a8",
        "outputId": "b3bc1663-2cc9-4eac-e978-26fe02ed8ba9"
      },
      "execution_count": 32,
      "outputs": [
        {
          "output_type": "stream",
          "name": "stdout",
          "text": [
            "137523079923024\n"
          ]
        }
      ]
    },
    {
      "cell_type": "code",
      "source": [
        "# del fns\n",
        "\n",
        "del sqaure"
      ],
      "metadata": {
        "id": "ydlhevrfJC-1"
      },
      "execution_count": 33,
      "outputs": []
    },
    {
      "cell_type": "code",
      "source": [
        "# storing\n",
        "\n",
        "l = [1,2,3,4]\n",
        "b = l\n",
        "b.append(5)\n",
        "print(l)\n",
        "print(b)"
      ],
      "metadata": {
        "colab": {
          "base_uri": "https://localhost:8080/"
        },
        "id": "-yT5z956KK4y",
        "outputId": "e506a572-34cd-4099-e5db-2e88eded49a2"
      },
      "execution_count": 35,
      "outputs": [
        {
          "output_type": "stream",
          "name": "stdout",
          "text": [
            "[1, 2, 3, 4, 5]\n",
            "[1, 2, 3, 4, 5]\n"
          ]
        }
      ]
    },
    {
      "cell_type": "code",
      "source": [
        "# returning a fns\n",
        "\n",
        "def f():\n",
        "  def x(a,b):\n",
        "    return a+b\n",
        "  return x"
      ],
      "metadata": {
        "id": "kvRkmlhGKQuI"
      },
      "execution_count": 39,
      "outputs": []
    },
    {
      "cell_type": "code",
      "source": [
        "val = f()(3,4)\n",
        "print(val)"
      ],
      "metadata": {
        "colab": {
          "base_uri": "https://localhost:8080/"
        },
        "id": "tPBLAwW9Kt_f",
        "outputId": "cd1cd6a3-7aed-4272-cdae-c28e6906a9df"
      },
      "execution_count": 42,
      "outputs": [
        {
          "output_type": "stream",
          "name": "stdout",
          "text": [
            "7\n"
          ]
        }
      ]
    },
    {
      "cell_type": "code",
      "source": [
        "# functions as arugument\n",
        "\n",
        "def f():\n",
        "  print('inside f')\n",
        "  def x():\n",
        "    print('inside x')\n",
        "  return x\n",
        "\n",
        "  print(f(x()))"
      ],
      "metadata": {
        "id": "ZOq0apzeK-XZ"
      },
      "execution_count": 47,
      "outputs": []
    },
    {
      "cell_type": "code",
      "source": [
        "\n",
        "# benefits of functions\n",
        "\n",
        "#code modularity\n",
        "#code reusability\n",
        "#code readablity"
      ],
      "metadata": {
        "id": "U2yHEmOZL_cq"
      },
      "execution_count": 48,
      "outputs": []
    },
    {
      "cell_type": "code",
      "source": [],
      "metadata": {
        "id": "f-pYkmsYMw-C"
      },
      "execution_count": null,
      "outputs": []
    }
  ]
}