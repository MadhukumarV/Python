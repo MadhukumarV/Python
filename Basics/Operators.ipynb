{
  "nbformat": 4,
  "nbformat_minor": 0,
  "metadata": {
    "colab": {
      "provenance": []
    },
    "kernelspec": {
      "name": "python3",
      "display_name": "Python 3"
    },
    "language_info": {
      "name": "python"
    }
  },
  "cells": [
    {
      "cell_type": "markdown",
      "source": [
        "**Operators**"
      ],
      "metadata": {
        "id": "CuK9zr8WGbIl"
      }
    },
    {
      "cell_type": "code",
      "source": [
        "#Arithimetic Operators\n",
        "print(4+3)\n",
        "print(4-3)\n",
        "print(4*3)\n",
        "print(4/3)\n",
        "print(4%3)\n",
        "print(4**3)\n",
        "print(4//3)\n"
      ],
      "metadata": {
        "colab": {
          "base_uri": "https://localhost:8080/"
        },
        "id": "MiRjXIV1Gixg",
        "outputId": "7a2702a3-241c-47e9-827b-ee5455b3f8ab"
      },
      "execution_count": 3,
      "outputs": [
        {
          "output_type": "stream",
          "name": "stdout",
          "text": [
            "Addition : 7\n",
            "1\n",
            "12\n",
            "1.3333333333333333\n",
            "1\n",
            "64\n",
            "1\n"
          ]
        }
      ]
    },
    {
      "cell_type": "code",
      "source": [
        "#Relational Operators\n",
        "print(4>3)\n",
        "print(4<3)\n",
        "print(4>=3)\n",
        "print(4<=3)\n",
        "print(4==3)\n",
        "print(4!=3)"
      ],
      "metadata": {
        "colab": {
          "base_uri": "https://localhost:8080/"
        },
        "id": "yTwz8e95Hi88",
        "outputId": "38c54fb3-54e5-47ce-b201-570bb17d8ed0"
      },
      "execution_count": 4,
      "outputs": [
        {
          "output_type": "stream",
          "name": "stdout",
          "text": [
            "True\n",
            "False\n",
            "True\n",
            "False\n",
            "False\n",
            "True\n"
          ]
        }
      ]
    },
    {
      "cell_type": "code",
      "source": [
        "#Logical Operators\n",
        "#and\n",
        "print(1 and 0)\n",
        "print(1 and 1)\n",
        "print(0 and 1)\n",
        "print(0 and 0)"
      ],
      "metadata": {
        "colab": {
          "base_uri": "https://localhost:8080/"
        },
        "id": "p_5gUZIxHrLS",
        "outputId": "e70897b5-bc7b-4ee9-c13d-8afc4d104035"
      },
      "execution_count": 6,
      "outputs": [
        {
          "output_type": "stream",
          "name": "stdout",
          "text": [
            "0\n",
            "1\n",
            "0\n",
            "0\n"
          ]
        }
      ]
    },
    {
      "cell_type": "code",
      "source": [
        "#Logical Operators\n",
        "#or\n",
        "print(1 or 0)\n",
        "print(1 or 1)\n",
        "print(0 or 1)\n",
        "print(0 or 0)"
      ],
      "metadata": {
        "colab": {
          "base_uri": "https://localhost:8080/"
        },
        "id": "gRZm6fN5ICt0",
        "outputId": "3f379f8e-033a-4857-e371-2a6e29b82b3f"
      },
      "execution_count": 7,
      "outputs": [
        {
          "output_type": "stream",
          "name": "stdout",
          "text": [
            "1\n",
            "1\n",
            "1\n",
            "0\n"
          ]
        }
      ]
    },
    {
      "cell_type": "code",
      "source": [
        "#Logical Operators\n",
        "#not\n",
        "print(not 1)\n",
        "print(not 0)\n"
      ],
      "metadata": {
        "colab": {
          "base_uri": "https://localhost:8080/"
        },
        "id": "Nqil4cftIIqS",
        "outputId": "0a53e35d-2a5c-4538-d3e2-8ed23c9b40b1"
      },
      "execution_count": 8,
      "outputs": [
        {
          "output_type": "stream",
          "name": "stdout",
          "text": [
            "False\n",
            "True\n"
          ]
        }
      ]
    },
    {
      "cell_type": "code",
      "source": [
        "#Bitwise Operator\n",
        "#&(and)\n",
        "print(2 & 3)"
      ],
      "metadata": {
        "colab": {
          "base_uri": "https://localhost:8080/"
        },
        "id": "V6c67FY0IX-g",
        "outputId": "d65a4ba5-5b87-4402-ff71-180c992b7ee5"
      },
      "execution_count": 9,
      "outputs": [
        {
          "output_type": "stream",
          "name": "stdout",
          "text": [
            "2\n"
          ]
        }
      ]
    },
    {
      "cell_type": "code",
      "source": [
        "#Bitwise Operator\n",
        "#|(or)\n",
        "print(2 | 3)"
      ],
      "metadata": {
        "colab": {
          "base_uri": "https://localhost:8080/"
        },
        "id": "9qz_1XSwIoay",
        "outputId": "5d133e58-21a0-4bd1-cb82-76accebe7d92"
      },
      "execution_count": 10,
      "outputs": [
        {
          "output_type": "stream",
          "name": "stdout",
          "text": [
            "3\n"
          ]
        }
      ]
    },
    {
      "cell_type": "code",
      "source": [
        "#Bitwise Operator\n",
        "#^(xor)\n",
        "print(2 ^ 3)"
      ],
      "metadata": {
        "colab": {
          "base_uri": "https://localhost:8080/"
        },
        "id": "A56Cbxi1IrKW",
        "outputId": "2ca42fd4-aa78-4e28-c5d2-8fadd5e2aa52"
      },
      "execution_count": 11,
      "outputs": [
        {
          "output_type": "stream",
          "name": "stdout",
          "text": [
            "1\n"
          ]
        }
      ]
    },
    {
      "cell_type": "code",
      "source": [
        "#Bitwise Operator\n",
        "#~(not)\n",
        "print(~2)"
      ],
      "metadata": {
        "colab": {
          "base_uri": "https://localhost:8080/"
        },
        "id": "XOIVExGDI4CY",
        "outputId": "f2983e5b-f7a6-4732-8633-6bfe66b99cec"
      },
      "execution_count": 12,
      "outputs": [
        {
          "output_type": "stream",
          "name": "stdout",
          "text": [
            "-3\n"
          ]
        }
      ]
    },
    {
      "cell_type": "code",
      "source": [
        "#Bitwise Operator\n",
        "#>>(right shift)\n",
        "print(4 >> 2)"
      ],
      "metadata": {
        "colab": {
          "base_uri": "https://localhost:8080/"
        },
        "id": "8_vCXvwpJFIe",
        "outputId": "972126c4-8daf-4f2d-d993-34f14f50fa36"
      },
      "execution_count": 15,
      "outputs": [
        {
          "output_type": "stream",
          "name": "stdout",
          "text": [
            "1\n"
          ]
        }
      ]
    },
    {
      "cell_type": "code",
      "source": [
        "#Bitwise Operator\n",
        "#<<(left shift)\n",
        "print(5 << 2)\n"
      ],
      "metadata": {
        "colab": {
          "base_uri": "https://localhost:8080/"
        },
        "id": "7bS3cPPRJYWk",
        "outputId": "6bd3bf35-9e0c-4197-f661-6841ccf5fde4"
      },
      "execution_count": 16,
      "outputs": [
        {
          "output_type": "stream",
          "name": "stdout",
          "text": [
            "20\n"
          ]
        }
      ]
    },
    {
      "cell_type": "code",
      "source": [
        "#Assignment Operators\n",
        "#+\n",
        "a=4\n",
        "a+=3\n",
        "print(a)\n",
        "#-\n",
        "b=4\n",
        "b-=3\n",
        "print(b)\n",
        "#*\n",
        "c=4\n",
        "c*=3\n",
        "print(c)\n",
        "#/\n",
        "d=4\n",
        "d/=3\n",
        "print(d)\n"
      ],
      "metadata": {
        "colab": {
          "base_uri": "https://localhost:8080/"
        },
        "id": "SGhrCUJlJr4c",
        "outputId": "276b95ff-ffe5-443b-e8e7-9322b097a727"
      },
      "execution_count": 17,
      "outputs": [
        {
          "output_type": "stream",
          "name": "stdout",
          "text": [
            "7\n",
            "1\n",
            "12\n",
            "1.3333333333333333\n"
          ]
        }
      ]
    },
    {
      "cell_type": "code",
      "source": [
        "#Membership Operators\n",
        "#in\n",
        "x=\"hello world\"\n",
        "print(\"h\" in x)\n",
        "\n",
        "#not in\n",
        "x=\"hello world\"\n",
        "print(\"h\" not in x)"
      ],
      "metadata": {
        "colab": {
          "base_uri": "https://localhost:8080/"
        },
        "id": "Sujx-2w5KX3m",
        "outputId": "09de93df-2ee2-470a-cac7-f1f6e9ca7003"
      },
      "execution_count": 18,
      "outputs": [
        {
          "output_type": "stream",
          "name": "stdout",
          "text": [
            "True\n",
            "False\n"
          ]
        }
      ]
    }
  ]
}