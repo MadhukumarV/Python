{
  "nbformat": 4,
  "nbformat_minor": 0,
  "metadata": {
    "colab": {
      "provenance": []
    },
    "kernelspec": {
      "name": "python3",
      "display_name": "Python 3"
    },
    "language_info": {
      "name": "python"
    }
  },
  "cells": [
    {
      "cell_type": "code",
      "execution_count": null,
      "metadata": {
        "id": "AcFYl4M-200v"
      },
      "outputs": [],
      "source": [
        "# Dic operations in python\n",
        "\n",
        "# Membership\n",
        "# iteration or loop"
      ]
    },
    {
      "cell_type": "code",
      "source": [
        "d = {1: \"one\", 2: \"two\", 3: \"three\"}\n",
        "print(1 in d)  # wrt to keys"
      ],
      "metadata": {
        "colab": {
          "base_uri": "https://localhost:8080/"
        },
        "id": "c912kyFX3K-d",
        "outputId": "c94963eb-d1d2-49cc-aa70-3e50e76bb8af"
      },
      "execution_count": 2,
      "outputs": [
        {
          "output_type": "stream",
          "name": "stdout",
          "text": [
            "True\n"
          ]
        }
      ]
    },
    {
      "cell_type": "code",
      "source": [
        "d = {1: \"one\", 2: \"two\", 3: \"three\"}\n",
        "print(1not in d)  # wrt to keys"
      ],
      "metadata": {
        "colab": {
          "base_uri": "https://localhost:8080/"
        },
        "id": "pIrJOGGe3YhB",
        "outputId": "c569962a-2fac-4c69-d0b3-97ec2099b53f"
      },
      "execution_count": 3,
      "outputs": [
        {
          "output_type": "stream",
          "name": "stdout",
          "text": [
            "False\n"
          ]
        }
      ]
    },
    {
      "cell_type": "code",
      "source": [
        "# iteration\n",
        "\n",
        "for i in d:\n",
        "    print(i,d[i])"
      ],
      "metadata": {
        "colab": {
          "base_uri": "https://localhost:8080/"
        },
        "id": "4R6hO6JB3wOb",
        "outputId": "c110edca-d03e-49e5-e76d-477157d1cefe"
      },
      "execution_count": 5,
      "outputs": [
        {
          "output_type": "stream",
          "name": "stdout",
          "text": [
            "1 one\n",
            "2 two\n",
            "3 three\n"
          ]
        }
      ]
    },
    {
      "cell_type": "code",
      "source": [
        "# functions in Dic\n",
        "\n",
        "#common fun\n",
        "\n",
        "#len\n",
        "#max\n",
        "#min\n",
        "#sort"
      ],
      "metadata": {
        "id": "bt7jP4r64DoZ"
      },
      "execution_count": null,
      "outputs": []
    },
    {
      "cell_type": "code",
      "source": [
        "d = {1: \"one\", 2: \"two\", 3: \"three\"}\n",
        "\n",
        "print(len(d))\n",
        "print(max(d))\n",
        "print(min(d))\n",
        "print(sorted(d,reverse=True))"
      ],
      "metadata": {
        "colab": {
          "base_uri": "https://localhost:8080/"
        },
        "id": "xeuNjUoC4l0W",
        "outputId": "9b036829-5d9a-418c-c464-c0ce4dec0c88"
      },
      "execution_count": 7,
      "outputs": [
        {
          "output_type": "stream",
          "name": "stdout",
          "text": [
            "3\n",
            "3\n",
            "1\n",
            "[3, 2, 1]\n"
          ]
        }
      ]
    },
    {
      "cell_type": "code",
      "source": [
        "# items in tuple form\n",
        "\n",
        "d.items()"
      ],
      "metadata": {
        "colab": {
          "base_uri": "https://localhost:8080/"
        },
        "id": "JhRBDa3L47xz",
        "outputId": "9c3349e4-858f-4ec7-fe7a-77e9f5d07bbf"
      },
      "execution_count": 8,
      "outputs": [
        {
          "output_type": "execute_result",
          "data": {
            "text/plain": [
              "dict_items([(1, 'one'), (2, 'two'), (3, 'three')])"
            ]
          },
          "metadata": {},
          "execution_count": 8
        }
      ]
    },
    {
      "cell_type": "code",
      "source": [
        "d.keys()"
      ],
      "metadata": {
        "colab": {
          "base_uri": "https://localhost:8080/"
        },
        "id": "fL0a4MPY5aAO",
        "outputId": "49de6f01-8b7f-4fe5-9e72-2cc2a03e20ae"
      },
      "execution_count": 9,
      "outputs": [
        {
          "output_type": "execute_result",
          "data": {
            "text/plain": [
              "dict_keys([1, 2, 3])"
            ]
          },
          "metadata": {},
          "execution_count": 9
        }
      ]
    },
    {
      "cell_type": "code",
      "source": [
        "d.values()"
      ],
      "metadata": {
        "colab": {
          "base_uri": "https://localhost:8080/"
        },
        "id": "tLCNZLSg5kNm",
        "outputId": "3a1bfc5b-ce87-432f-83e8-f69cc60877ac"
      },
      "execution_count": 10,
      "outputs": [
        {
          "output_type": "execute_result",
          "data": {
            "text/plain": [
              "dict_values(['one', 'two', 'three'])"
            ]
          },
          "metadata": {},
          "execution_count": 10
        }
      ]
    },
    {
      "cell_type": "code",
      "source": [
        "#update\n",
        "\n",
        "d = {1: \"one\", 2: \"two\", 3: \"three\"}\n",
        "d.update({4:\"four\",3:\"six\"})\n",
        "d\n",
        "\n",
        "d.update({4:\"four\"})\n",
        "d"
      ],
      "metadata": {
        "colab": {
          "base_uri": "https://localhost:8080/"
        },
        "id": "LxshbxDa5pqh",
        "outputId": "a1cedc35-3858-4c01-911b-c0c04b9b658a"
      },
      "execution_count": 12,
      "outputs": [
        {
          "output_type": "execute_result",
          "data": {
            "text/plain": [
              "{1: 'one', 2: 'two', 3: 'six', 4: 'four'}"
            ]
          },
          "metadata": {},
          "execution_count": 12
        }
      ]
    },
    {
      "cell_type": "code",
      "source": [
        "#Comperhension\n",
        "\n",
        "{i:i**2 for i in range(1,11)}"
      ],
      "metadata": {
        "colab": {
          "base_uri": "https://localhost:8080/"
        },
        "id": "q_VM4NSf58Y6",
        "outputId": "94de95da-774e-4b34-c061-7f50afb747e9"
      },
      "execution_count": 13,
      "outputs": [
        {
          "output_type": "execute_result",
          "data": {
            "text/plain": [
              "{1: 1, 2: 4, 3: 9, 4: 16, 5: 25, 6: 36, 7: 49, 8: 64, 9: 81, 10: 100}"
            ]
          },
          "metadata": {},
          "execution_count": 13
        }
      ]
    },
    {
      "cell_type": "code",
      "source": [
        "#if condition\n",
        "\n",
        "d = {1: \"one\", 2: \"two\", 3: \"three\"}  #k= keys ,v= values\n",
        "{k:v for k,v in d.items() if k%2==0}"
      ],
      "metadata": {
        "colab": {
          "base_uri": "https://localhost:8080/"
        },
        "id": "08s_9aXv7BvF",
        "outputId": "a997965a-291c-4db3-fc73-46e2ad0eb217"
      },
      "execution_count": 15,
      "outputs": [
        {
          "output_type": "execute_result",
          "data": {
            "text/plain": [
              "{2: 'two'}"
            ]
          },
          "metadata": {},
          "execution_count": 15
        }
      ]
    },
    {
      "cell_type": "code",
      "source": [
        "#zip function\n",
        "\n",
        "d = [\"sunday\",\"monday\",\"tuesday\",\"wednesday\"]\n",
        "t = [24,27,26,25]\n",
        "\n",
        "{k:v for k,v in zip(d,t)}\n"
      ],
      "metadata": {
        "colab": {
          "base_uri": "https://localhost:8080/"
        },
        "id": "Ggz9gqt67Odw",
        "outputId": "d338bf1e-ea54-4097-f1ce-0978b33b4600"
      },
      "execution_count": 16,
      "outputs": [
        {
          "output_type": "execute_result",
          "data": {
            "text/plain": [
              "{'sunday': 24, 'monday': 27, 'tuesday': 26, 'wednesday': 25}"
            ]
          },
          "metadata": {},
          "execution_count": 16
        }
      ]
    },
    {
      "cell_type": "code",
      "source": [],
      "metadata": {
        "id": "dGri__VI8EuV"
      },
      "execution_count": null,
      "outputs": []
    }
  ]
}