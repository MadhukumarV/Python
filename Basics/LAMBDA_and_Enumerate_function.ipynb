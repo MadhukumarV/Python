{
  "nbformat": 4,
  "nbformat_minor": 0,
  "metadata": {
    "colab": {
      "provenance": []
    },
    "kernelspec": {
      "name": "python3",
      "display_name": "Python 3"
    },
    "language_info": {
      "name": "python"
    }
  },
  "cells": [
    {
      "cell_type": "code",
      "execution_count": 1,
      "metadata": {
        "id": "64jzXW35M_-U"
      },
      "outputs": [],
      "source": [
        "a = lambda x : x**2"
      ]
    },
    {
      "cell_type": "code",
      "source": [
        "a(5)"
      ],
      "metadata": {
        "colab": {
          "base_uri": "https://localhost:8080/"
        },
        "id": "98e36YgnNeQ4",
        "outputId": "12d27d7f-90ad-4466-e460-73cf3cc8f219"
      },
      "execution_count": 2,
      "outputs": [
        {
          "output_type": "execute_result",
          "data": {
            "text/plain": [
              "25"
            ]
          },
          "metadata": {},
          "execution_count": 2
        }
      ]
    },
    {
      "cell_type": "code",
      "source": [
        "# check string if has \"a\"\n",
        "\n",
        "s = lambda x : True if \"a\" in x else False\n",
        "\n",
        "s(\"madhu\")"
      ],
      "metadata": {
        "colab": {
          "base_uri": "https://localhost:8080/"
        },
        "id": "sgtbuKN0NjOa",
        "outputId": "c0fc7d31-bd2e-48e1-a127-8a5edc8bb02c"
      },
      "execution_count": 3,
      "outputs": [
        {
          "output_type": "execute_result",
          "data": {
            "text/plain": [
              "True"
            ]
          },
          "metadata": {},
          "execution_count": 3
        }
      ]
    },
    {
      "cell_type": "code",
      "source": [
        "# odd or even\n",
        "m = lambda x : \"even\" if  x%2==0 else \"odd\"\n",
        "m(6)"
      ],
      "metadata": {
        "colab": {
          "base_uri": "https://localhost:8080/",
          "height": 36
        },
        "id": "-gGSRaB1N4w4",
        "outputId": "60ba5944-654f-451b-b223-aa2bfd3c0d1a"
      },
      "execution_count": 4,
      "outputs": [
        {
          "output_type": "execute_result",
          "data": {
            "text/plain": [
              "'even'"
            ],
            "application/vnd.google.colaboratory.intrinsic+json": {
              "type": "string"
            }
          },
          "metadata": {},
          "execution_count": 4
        }
      ]
    },
    {
      "cell_type": "code",
      "source": [
        "# Higher Order functions\n",
        "\n",
        "# map\n",
        "# filter\n",
        "# reduce"
      ],
      "metadata": {
        "id": "LrnPsQLVOKbC"
      },
      "execution_count": 5,
      "outputs": []
    },
    {
      "cell_type": "code",
      "source": [
        "# map wrt lambda\n",
        "\n",
        "l = [1,2,3,4,5,6,7]\n",
        "list(map(lambda x : \"even\"if x%2==0 else \"odd\",l))"
      ],
      "metadata": {
        "colab": {
          "base_uri": "https://localhost:8080/"
        },
        "id": "2XluEga8Ociw",
        "outputId": "ad33f18a-da8a-4da3-a8bf-89ae3b280730"
      },
      "execution_count": 9,
      "outputs": [
        {
          "output_type": "execute_result",
          "data": {
            "text/plain": [
              "['odd', 'even', 'odd', 'even', 'odd', 'even', 'odd']"
            ]
          },
          "metadata": {},
          "execution_count": 9
        }
      ]
    },
    {
      "cell_type": "code",
      "source": [
        "# filter\n",
        "\n",
        "l =  [1,2,3,4,5,6,7,8,9]\n",
        "list(filter(lambda x :x>6,l))"
      ],
      "metadata": {
        "colab": {
          "base_uri": "https://localhost:8080/"
        },
        "id": "mIYaiyzeOj5R",
        "outputId": "50bc2826-1851-45b1-8c76-e2fece85cc45"
      },
      "execution_count": 10,
      "outputs": [
        {
          "output_type": "execute_result",
          "data": {
            "text/plain": [
              "[7, 8, 9]"
            ]
          },
          "metadata": {},
          "execution_count": 10
        }
      ]
    },
    {
      "cell_type": "code",
      "source": [
        "m = [\"apple\", \"Orange\",\"mango\",\"guva\"]\n",
        "list(filter(lambda x : x.startswith(\"m\"),m))"
      ],
      "metadata": {
        "colab": {
          "base_uri": "https://localhost:8080/"
        },
        "id": "bpVTrOIYPRWy",
        "outputId": "0d395edc-cea2-4878-9ea7-377d516452da"
      },
      "execution_count": 12,
      "outputs": [
        {
          "output_type": "execute_result",
          "data": {
            "text/plain": [
              "['mango']"
            ]
          },
          "metadata": {},
          "execution_count": 12
        }
      ]
    },
    {
      "cell_type": "code",
      "source": [
        "# reduce\n",
        "\n",
        "import functools\n",
        "l = [1,2,3,4,5,6,7,8,9]\n",
        "functools.reduce(lambda x,y : x+y,l)"
      ],
      "metadata": {
        "colab": {
          "base_uri": "https://localhost:8080/"
        },
        "id": "jbZDitQCP-1k",
        "outputId": "b0f5a1df-1143-4ab6-e225-8af88621f1a1"
      },
      "execution_count": 13,
      "outputs": [
        {
          "output_type": "execute_result",
          "data": {
            "text/plain": [
              "45"
            ]
          },
          "metadata": {},
          "execution_count": 13
        }
      ]
    },
    {
      "cell_type": "code",
      "source": [
        "# find max\n",
        "functools.reduce(lambda x,y : x if x>y else y,l)"
      ],
      "metadata": {
        "colab": {
          "base_uri": "https://localhost:8080/"
        },
        "id": "DGJzxr1GQUE6",
        "outputId": "835c2f97-dfec-40ca-970e-e8251080ee67"
      },
      "execution_count": 14,
      "outputs": [
        {
          "output_type": "execute_result",
          "data": {
            "text/plain": [
              "9"
            ]
          },
          "metadata": {},
          "execution_count": 14
        }
      ]
    },
    {
      "cell_type": "code",
      "source": [
        "# Enumerate\n",
        "l = [\"apple\", \"Orange\",\"mango\",\"guva\"]\n",
        "list(enumerate(l))"
      ],
      "metadata": {
        "colab": {
          "base_uri": "https://localhost:8080/"
        },
        "id": "8fFE75O8Qide",
        "outputId": "179e036f-4034-4818-d841-c09075e53bec"
      },
      "execution_count": 15,
      "outputs": [
        {
          "output_type": "execute_result",
          "data": {
            "text/plain": [
              "[(0, 'apple'), (1, 'Orange'), (2, 'mango'), (3, 'guva')]"
            ]
          },
          "metadata": {},
          "execution_count": 15
        }
      ]
    },
    {
      "cell_type": "code",
      "source": [
        "for i,j in enumerate(l,start=1):\n",
        "    print(i,j)"
      ],
      "metadata": {
        "colab": {
          "base_uri": "https://localhost:8080/"
        },
        "id": "R_7dtco_Q2Ux",
        "outputId": "a0a583f4-3a4e-4715-cd57-b9665ff76a83"
      },
      "execution_count": 17,
      "outputs": [
        {
          "output_type": "stream",
          "name": "stdout",
          "text": [
            "1 apple\n",
            "2 Orange\n",
            "3 mango\n",
            "4 guva\n"
          ]
        }
      ]
    },
    {
      "cell_type": "code",
      "source": [
        "enumerate(l)"
      ],
      "metadata": {
        "colab": {
          "base_uri": "https://localhost:8080/"
        },
        "id": "Oc1QRfS4RDjV",
        "outputId": "467242e3-f0f8-429f-e11f-d33240bd25af"
      },
      "execution_count": 18,
      "outputs": [
        {
          "output_type": "execute_result",
          "data": {
            "text/plain": [
              "<enumerate at 0x798e221b1680>"
            ]
          },
          "metadata": {},
          "execution_count": 18
        }
      ]
    },
    {
      "cell_type": "code",
      "source": [
        "dict(enumerate(l))"
      ],
      "metadata": {
        "colab": {
          "base_uri": "https://localhost:8080/"
        },
        "id": "KsOvFD8oRSKy",
        "outputId": "68fa513d-a4c9-4904-c2c5-faf9c9d1f358"
      },
      "execution_count": 21,
      "outputs": [
        {
          "output_type": "execute_result",
          "data": {
            "text/plain": [
              "{0: 'apple', 1: 'Orange', 2: 'mango', 3: 'guva'}"
            ]
          },
          "metadata": {},
          "execution_count": 21
        }
      ]
    },
    {
      "cell_type": "code",
      "source": [
        "print(list(enumerate(l,start=1)))\n",
        "print(set(enumerate(l,start=1)))\n",
        "print(tuple(enumerate(l,start=1)))\n"
      ],
      "metadata": {
        "colab": {
          "base_uri": "https://localhost:8080/"
        },
        "id": "AQ_iNPMTRWLi",
        "outputId": "201b3866-c7e7-459f-eba7-204680a25399"
      },
      "execution_count": 23,
      "outputs": [
        {
          "output_type": "stream",
          "name": "stdout",
          "text": [
            "[(1, 'apple'), (2, 'Orange'), (3, 'mango'), (4, 'guva')]\n",
            "{(2, 'Orange'), (1, 'apple'), (4, 'guva'), (3, 'mango')}\n",
            "((1, 'apple'), (2, 'Orange'), (3, 'mango'), (4, 'guva'))\n"
          ]
        }
      ]
    },
    {
      "cell_type": "code",
      "source": [],
      "metadata": {
        "id": "r01etifWRwV9"
      },
      "execution_count": null,
      "outputs": []
    }
  ]
}