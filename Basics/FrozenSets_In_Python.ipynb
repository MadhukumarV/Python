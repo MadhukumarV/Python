{
  "nbformat": 4,
  "nbformat_minor": 0,
  "metadata": {
    "colab": {
      "provenance": []
    },
    "kernelspec": {
      "name": "python3",
      "display_name": "Python 3"
    },
    "language_info": {
      "name": "python"
    }
  },
  "cells": [
    {
      "cell_type": "code",
      "execution_count": null,
      "metadata": {
        "id": "FhHhzuw91GLP"
      },
      "outputs": [],
      "source": [
        "# frozenset"
      ]
    },
    {
      "cell_type": "code",
      "source": [
        "Fs = frozenset([1,2,3,4,5])\n",
        "print(Fs)"
      ],
      "metadata": {
        "colab": {
          "base_uri": "https://localhost:8080/"
        },
        "id": "ua0IozkN1RAT",
        "outputId": "a5fd8e57-e466-4c15-de56-18090ca76ef0"
      },
      "execution_count": 1,
      "outputs": [
        {
          "output_type": "stream",
          "name": "stdout",
          "text": [
            "frozenset({1, 2, 3, 4, 5})\n"
          ]
        }
      ]
    },
    {
      "cell_type": "code",
      "source": [
        "# Set comperhension\n",
        "\n",
        "s = {x**2 for x in range(10) if x > 5}\n",
        "print(s)"
      ],
      "metadata": {
        "colab": {
          "base_uri": "https://localhost:8080/"
        },
        "id": "_iMGjgDj1Ya-",
        "outputId": "32edb869-1a28-4b05-8425-bc7ca1986337"
      },
      "execution_count": 5,
      "outputs": [
        {
          "output_type": "stream",
          "name": "stdout",
          "text": [
            "{64, 49, 36, 81}\n"
          ]
        }
      ]
    },
    {
      "cell_type": "code",
      "source": [
        "s1 = {x for x in range (5)}\n",
        "print(s1)"
      ],
      "metadata": {
        "colab": {
          "base_uri": "https://localhost:8080/"
        },
        "id": "946xbxG81oM0",
        "outputId": "45b336fe-5614-40d2-85d5-c982f294566d"
      },
      "execution_count": 6,
      "outputs": [
        {
          "output_type": "stream",
          "name": "stdout",
          "text": [
            "{0, 1, 2, 3, 4}\n"
          ]
        }
      ]
    },
    {
      "cell_type": "code",
      "source": [],
      "metadata": {
        "id": "LM02Y-Ur2LP0"
      },
      "execution_count": null,
      "outputs": []
    }
  ]
}