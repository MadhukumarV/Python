{
  "nbformat": 4,
  "nbformat_minor": 0,
  "metadata": {
    "colab": {
      "provenance": []
    },
    "kernelspec": {
      "name": "python3",
      "display_name": "Python 3"
    },
    "language_info": {
      "name": "python"
    }
  },
  "cells": [
    {
      "cell_type": "markdown",
      "source": [
        "### LISTS\n"
      ],
      "metadata": {
        "id": "jFSVKtIf4sJS"
      }
    },
    {
      "cell_type": "code",
      "source": [
        "# LIst\n",
        "\n",
        "M = [1,2,3,4]\n",
        "\n",
        "print(id(M))"
      ],
      "metadata": {
        "colab": {
          "base_uri": "https://localhost:8080/"
        },
        "id": "-IRjFx-18AOl",
        "outputId": "8a097518-9a72-46c2-cd0c-20b1ecd71a53"
      },
      "execution_count": 1,
      "outputs": [
        {
          "output_type": "stream",
          "name": "stdout",
          "text": [
            "136385257829888\n"
          ]
        }
      ]
    },
    {
      "cell_type": "code",
      "source": [
        "print(M[0])"
      ],
      "metadata": {
        "colab": {
          "base_uri": "https://localhost:8080/"
        },
        "id": "YmjgpOaz_MZh",
        "outputId": "8ca3c3f5-0363-4d94-a6e2-cce097ca89b3"
      },
      "execution_count": 2,
      "outputs": [
        {
          "output_type": "stream",
          "name": "stdout",
          "text": [
            "1\n"
          ]
        }
      ]
    },
    {
      "cell_type": "code",
      "source": [
        "print(id(M[0]))\n",
        "print(id(M[1]))\n",
        "print(id(M[2]))\n",
        "print(id(M[3]))"
      ],
      "metadata": {
        "colab": {
          "base_uri": "https://localhost:8080/"
        },
        "id": "fJfy_WhV_UzT",
        "outputId": "12f7fa55-a9b5-4adc-e364-e2cf1f90bbf0"
      },
      "execution_count": 4,
      "outputs": [
        {
          "output_type": "stream",
          "name": "stdout",
          "text": [
            "136385690353904\n",
            "136385690353936\n",
            "136385690353968\n",
            "136385690354000\n"
          ]
        }
      ]
    },
    {
      "cell_type": "code",
      "source": [
        "print(id(1))"
      ],
      "metadata": {
        "colab": {
          "base_uri": "https://localhost:8080/"
        },
        "id": "h-J48ETJ_UsA",
        "outputId": "e3b4d77e-a748-48ac-c402-6a697080759b"
      },
      "execution_count": 5,
      "outputs": [
        {
          "output_type": "stream",
          "name": "stdout",
          "text": [
            "136385690353904\n"
          ]
        }
      ]
    },
    {
      "cell_type": "code",
      "source": [
        "# list in 1d\n",
        "\n",
        "m = [1,2,3,4,5,6]\n",
        "\n",
        "print(type(m))"
      ],
      "metadata": {
        "colab": {
          "base_uri": "https://localhost:8080/"
        },
        "id": "dq_1YZT0_uSg",
        "outputId": "25681efb-34d1-4687-b867-16251049cfba"
      },
      "execution_count": 7,
      "outputs": [
        {
          "output_type": "stream",
          "name": "stdout",
          "text": [
            "<class 'list'>\n"
          ]
        }
      ]
    },
    {
      "cell_type": "code",
      "source": [
        "m = [1,2,3,[4,5]]\n",
        "\n",
        "m[-1]"
      ],
      "metadata": {
        "colab": {
          "base_uri": "https://localhost:8080/"
        },
        "id": "F3HsaxG5_7kI",
        "outputId": "7456b4ff-9626-4239-a07b-781d6945a72b"
      },
      "execution_count": 11,
      "outputs": [
        {
          "output_type": "execute_result",
          "data": {
            "text/plain": [
              "[4, 5]"
            ]
          },
          "metadata": {},
          "execution_count": 11
        }
      ]
    },
    {
      "cell_type": "code",
      "source": [
        "m[2]"
      ],
      "metadata": {
        "colab": {
          "base_uri": "https://localhost:8080/"
        },
        "id": "RZnXKiUzAST9",
        "outputId": "f6323c38-83f9-4b69-bdf2-5ca3e025d907"
      },
      "execution_count": 12,
      "outputs": [
        {
          "output_type": "execute_result",
          "data": {
            "text/plain": [
              "3"
            ]
          },
          "metadata": {},
          "execution_count": 12
        }
      ]
    },
    {
      "cell_type": "code",
      "source": [
        "m[-1][0]"
      ],
      "metadata": {
        "colab": {
          "base_uri": "https://localhost:8080/"
        },
        "id": "scHgE7D6AGrU",
        "outputId": "9853eda3-a0ed-4379-8398-7bfdbfc9afe2"
      },
      "execution_count": 13,
      "outputs": [
        {
          "output_type": "execute_result",
          "data": {
            "text/plain": [
              "4"
            ]
          },
          "metadata": {},
          "execution_count": 13
        }
      ]
    },
    {
      "cell_type": "code",
      "source": [
        "m[3][-1]"
      ],
      "metadata": {
        "colab": {
          "base_uri": "https://localhost:8080/"
        },
        "id": "7cDvPt2UAbNl",
        "outputId": "34bd680c-85fb-4004-ff82-7604c6c2dbfd"
      },
      "execution_count": 14,
      "outputs": [
        {
          "output_type": "execute_result",
          "data": {
            "text/plain": [
              "5"
            ]
          },
          "metadata": {},
          "execution_count": 14
        }
      ]
    },
    {
      "cell_type": "code",
      "source": [
        "m = [[1,5,5],[5,2]]\n",
        "\n",
        "m[1][0]"
      ],
      "metadata": {
        "colab": {
          "base_uri": "https://localhost:8080/"
        },
        "id": "Lpi0QFCRAiJf",
        "outputId": "810c31a5-277a-42c1-ce14-df3fa2572c8a"
      },
      "execution_count": 15,
      "outputs": [
        {
          "output_type": "execute_result",
          "data": {
            "text/plain": [
              "5"
            ]
          },
          "metadata": {},
          "execution_count": 15
        }
      ]
    },
    {
      "cell_type": "code",
      "source": [
        "m = [[2,3],'madhu',[1,[4,5]]]\n",
        "\n",
        "m [-2][1]"
      ],
      "metadata": {
        "colab": {
          "base_uri": "https://localhost:8080/",
          "height": 35
        },
        "id": "TclgzyyAAvPJ",
        "outputId": "f8376e32-e585-44e6-da56-65665b9ab307"
      },
      "execution_count": 17,
      "outputs": [
        {
          "output_type": "execute_result",
          "data": {
            "text/plain": [
              "'a'"
            ],
            "application/vnd.google.colaboratory.intrinsic+json": {
              "type": "string"
            }
          },
          "metadata": {},
          "execution_count": 17
        }
      ]
    },
    {
      "cell_type": "code",
      "source": [
        "m = [[[1,2],[3,4],[5,6]],5.55]\n",
        "\n",
        "print(m[0][2][1])\n",
        "\n",
        "print(m[1])"
      ],
      "metadata": {
        "colab": {
          "base_uri": "https://localhost:8080/"
        },
        "id": "tjvkD3_tA_Gf",
        "outputId": "7fa4973e-1ddb-45ba-e1da-e3aab7481872"
      },
      "execution_count": 26,
      "outputs": [
        {
          "output_type": "stream",
          "name": "stdout",
          "text": [
            "6\n",
            "5.55\n"
          ]
        }
      ]
    },
    {
      "cell_type": "code",
      "source": [
        "# prompt: charecterstics of lists\n",
        "\n",
        "Okay, let's analyze the characteristics of lists based on the provided code snippet.\n",
        "\n",
        "**Characteristics of Lists:**\n",
        "\n",
        "\n",
        "1. **Ordered:**  Lists maintain the order of elements as they are added. The index (position) of each element is preserved.\n",
        "2. **Mutable:** Lists are mutable, meaning you can change their contents after they've been created. You can add, remove, or modify elements within a list.\n",
        "3. **Heterogeneous:** Lists can hold items of different data types (integers, floats, strings, other lists, etc.).\n",
        "4. **Indexing:** Elements in a list are accessed using their index (starting from 0). You can also use negative indices to access elements from the end of the list.\n",
        "5. **Nested:** Lists can be nested within other lists to create multidimensional structures (like matrices or trees).\n",
        "6. **Dynamic Size:** Lists can grow or shrink as you add or remove elements.\n",
        "7. **Memory Allocation:** Each list element has its own memory location. This is demonstrated in the `id()` function which displays the memory address of each object.\n",
        "8. **Element Access:** Nested list elements are accessed using multiple indices, referencing the list and then each sublist index in order.\n",
        "\n",
        "\n",
        "**Observations from the Code Snippet:**\n",
        "\n",
        "* `id(M)` gives a unique identifier for the list `M`.\n",
        "* `id(M[0])` gives the memory address of the first element (1).\n",
        "* **Memory Locations**: `id(M[0])` (the memory address of the first element) and `id(1)` (the memory address of the integer 1) are likely the same.\n",
        " This means that the list object stores references to the values instead of actual copies of the values.\n",
        "* List elements can be referenced using positive and negative indices.\n",
        "* Nested lists allow accessing elements at different levels within the structure.\n",
        "\n",
        "\n",
        "\n",
        "**In Summary:**\n",
        "\n",
        "Lists are a flexible and powerful data structure in Python because they are ordered, mutable, and can contain various data types.\n",
        " Their use in nested structures like multi-dimensional matrices enables representing complex relationships between data.\n",
        "  The code snippet highlights the ability to index elements, access nested elements, and understand that lists store references to the objects."
      ],
      "metadata": {
        "id": "22L0LQyxCPTm"
      },
      "execution_count": null,
      "outputs": []
    },
    {
      "cell_type": "code",
      "source": [],
      "metadata": {
        "id": "UbIALs3eDWtc"
      },
      "execution_count": null,
      "outputs": []
    }
  ]
}