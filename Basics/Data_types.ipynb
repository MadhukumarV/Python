{
  "nbformat": 4,
  "nbformat_minor": 0,
  "metadata": {
    "colab": {
      "provenance": [],
      "toc_visible": true
    },
    "kernelspec": {
      "name": "python3",
      "display_name": "Python 3"
    },
    "language_info": {
      "name": "python"
    }
  },
  "cells": [
    {
      "cell_type": "markdown",
      "source": [
        "# Data Types in Python\n",
        "\n",
        "\n",
        "1. Integer\n",
        "\n",
        "\n",
        "2. Float(Decimal)\n",
        "\n",
        "3. Boolean\n",
        "\n",
        "4. String\n",
        "\n",
        "5. Complex\n",
        "\n",
        "6. List\n",
        "\n",
        "7. Tuple\n",
        "\n",
        "8. Sets\n",
        "\n",
        "9. Dictionary"
      ],
      "metadata": {
        "id": "Qy1sLE11pl-d"
      }
    },
    {
      "cell_type": "code",
      "execution_count": 1,
      "metadata": {
        "colab": {
          "base_uri": "https://localhost:8080/"
        },
        "id": "fzEEObiLpesp",
        "outputId": "91dfe2bd-1633-4a6e-d65a-630e1e7c67cf"
      },
      "outputs": [
        {
          "output_type": "stream",
          "name": "stdout",
          "text": [
            "My name is Rakesh\n"
          ]
        }
      ],
      "source": [
        "# single line comment\n",
        "print(\"My name is Rakesh\")"
      ]
    },
    {
      "cell_type": "code",
      "source": [
        "\"\"\"\n",
        "Multi Line comment\n",
        "\"\"\"\n",
        "print(\"MAMA NUVVU THOPU\")"
      ],
      "metadata": {
        "colab": {
          "base_uri": "https://localhost:8080/"
        },
        "id": "PU4OhrHMsa7f",
        "outputId": "cfab5046-778d-4b95-ae6d-1fd4a4e2ff19"
      },
      "execution_count": 2,
      "outputs": [
        {
          "output_type": "stream",
          "name": "stdout",
          "text": [
            "MAMA NUVVU THOPU\n"
          ]
        }
      ]
    },
    {
      "cell_type": "code",
      "source": [
        "#integer\n",
        "type(100)"
      ],
      "metadata": {
        "colab": {
          "base_uri": "https://localhost:8080/"
        },
        "id": "YgjeBEuWs_vo",
        "outputId": "6def8d31-2875-401b-fe64-cb651ee23f50"
      },
      "execution_count": 3,
      "outputs": [
        {
          "output_type": "execute_result",
          "data": {
            "text/plain": [
              "int"
            ]
          },
          "metadata": {},
          "execution_count": 3
        }
      ]
    },
    {
      "cell_type": "code",
      "source": [
        "type(100000000000)"
      ],
      "metadata": {
        "colab": {
          "base_uri": "https://localhost:8080/"
        },
        "id": "9OcLpQpStE3O",
        "outputId": "d6858397-ce91-421a-f53c-aca4dabd4e74"
      },
      "execution_count": 4,
      "outputs": [
        {
          "output_type": "execute_result",
          "data": {
            "text/plain": [
              "int"
            ]
          },
          "metadata": {},
          "execution_count": 4
        }
      ]
    },
    {
      "cell_type": "code",
      "source": [
        "#float\n",
        "type(10.5)"
      ],
      "metadata": {
        "colab": {
          "base_uri": "https://localhost:8080/"
        },
        "id": "soTBpeQktJS5",
        "outputId": "5a2bcae9-d2c8-47a0-9522-5c7a18d5b0a0"
      },
      "execution_count": 5,
      "outputs": [
        {
          "output_type": "execute_result",
          "data": {
            "text/plain": [
              "float"
            ]
          },
          "metadata": {},
          "execution_count": 5
        }
      ]
    },
    {
      "cell_type": "code",
      "source": [
        "#boolean\n",
        "type(True)"
      ],
      "metadata": {
        "colab": {
          "base_uri": "https://localhost:8080/"
        },
        "id": "zA66wj3btOUf",
        "outputId": "d9794d37-0120-48e4-ea22-b3c88535e6f8"
      },
      "execution_count": 6,
      "outputs": [
        {
          "output_type": "execute_result",
          "data": {
            "text/plain": [
              "bool"
            ]
          },
          "metadata": {},
          "execution_count": 6
        }
      ]
    },
    {
      "cell_type": "code",
      "source": [
        "#string\n",
        "type(\"madhu\")"
      ],
      "metadata": {
        "colab": {
          "base_uri": "https://localhost:8080/"
        },
        "id": "OcGh78nutU2_",
        "outputId": "d54ef1d5-9f95-49cb-ee41-10cbdf1a87a2"
      },
      "execution_count": 8,
      "outputs": [
        {
          "output_type": "execute_result",
          "data": {
            "text/plain": [
              "str"
            ]
          },
          "metadata": {},
          "execution_count": 8
        }
      ]
    },
    {
      "cell_type": "code",
      "source": [
        "#complex\n",
        "type(3+2j)"
      ],
      "metadata": {
        "colab": {
          "base_uri": "https://localhost:8080/"
        },
        "id": "R9Xj7fb6tau1",
        "outputId": "7e83ab07-5424-455d-d2fd-f573da1419b3"
      },
      "execution_count": 14,
      "outputs": [
        {
          "output_type": "execute_result",
          "data": {
            "text/plain": [
              "complex"
            ]
          },
          "metadata": {},
          "execution_count": 14
        }
      ]
    },
    {
      "cell_type": "code",
      "source": [
        "#list\n",
        "type([1,2,3,4,5,6])"
      ],
      "metadata": {
        "colab": {
          "base_uri": "https://localhost:8080/"
        },
        "id": "UQhwg6Z8uMsX",
        "outputId": "f412afdf-b19b-44a2-c552-4318050c1080"
      },
      "execution_count": 15,
      "outputs": [
        {
          "output_type": "execute_result",
          "data": {
            "text/plain": [
              "list"
            ]
          },
          "metadata": {},
          "execution_count": 15
        }
      ]
    },
    {
      "cell_type": "code",
      "source": [
        "#tuple\n",
        "type((1,2,3,3,4,4,5))"
      ],
      "metadata": {
        "colab": {
          "base_uri": "https://localhost:8080/"
        },
        "id": "zll_GmM8ux3t",
        "outputId": "f7780385-ed2b-4f39-8023-24ff017a35a2"
      },
      "execution_count": 16,
      "outputs": [
        {
          "output_type": "execute_result",
          "data": {
            "text/plain": [
              "tuple"
            ]
          },
          "metadata": {},
          "execution_count": 16
        }
      ]
    },
    {
      "cell_type": "code",
      "source": [
        "#sets\n",
        "type({1,2,3,3,3,3,33,})"
      ],
      "metadata": {
        "colab": {
          "base_uri": "https://localhost:8080/"
        },
        "id": "bfmXElFbu51s",
        "outputId": "f09ed55a-a10f-4b6f-80d1-ce2967dd56d3"
      },
      "execution_count": 17,
      "outputs": [
        {
          "output_type": "execute_result",
          "data": {
            "text/plain": [
              "set"
            ]
          },
          "metadata": {},
          "execution_count": 17
        }
      ]
    },
    {
      "cell_type": "code",
      "source": [
        "#dictionary\n",
        "type({\"name\": \"madhu\",\"age\": 27})"
      ],
      "metadata": {
        "colab": {
          "base_uri": "https://localhost:8080/"
        },
        "id": "5uoQnR1ivPYa",
        "outputId": "0d7c1a49-6347-47f5-c4d2-be686b650503"
      },
      "execution_count": 18,
      "outputs": [
        {
          "output_type": "execute_result",
          "data": {
            "text/plain": [
              "dict"
            ]
          },
          "metadata": {},
          "execution_count": 18
        }
      ]
    },
    {
      "cell_type": "code",
      "source": [
        "x={\"name\": \"madhu\",\"age\": 27}\n",
        "print(x)"
      ],
      "metadata": {
        "colab": {
          "base_uri": "https://localhost:8080/"
        },
        "id": "jWKP2la3vkPX",
        "outputId": "d92c6ad6-f1db-4fa7-ff7b-0c0176930548"
      },
      "execution_count": 19,
      "outputs": [
        {
          "output_type": "stream",
          "name": "stdout",
          "text": [
            "{'name': 'madhu', 'age': 27}\n"
          ]
        }
      ]
    },
    {
      "cell_type": "code",
      "source": [],
      "metadata": {
        "id": "SfKg2Otkv2Tb"
      },
      "execution_count": null,
      "outputs": []
    }
  ]
}