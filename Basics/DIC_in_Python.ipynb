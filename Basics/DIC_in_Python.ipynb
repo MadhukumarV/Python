{
  "nbformat": 4,
  "nbformat_minor": 0,
  "metadata": {
    "colab": {
      "provenance": []
    },
    "kernelspec": {
      "name": "python3",
      "display_name": "Python 3"
    },
    "language_info": {
      "name": "python"
    }
  },
  "cells": [
    {
      "cell_type": "code",
      "execution_count": 1,
      "metadata": {
        "id": "OhUNtMzzwjz0"
      },
      "outputs": [],
      "source": [
        "#charecterstics of dic\n",
        "\n",
        "# mutable\n",
        "# random indexing\n",
        "# key cant be duplicate\n",
        "#key cantbe mutable item"
      ]
    },
    {
      "cell_type": "code",
      "source": [
        "# empty Dic\n",
        "\n",
        "d = {}\n",
        "print(type(d))"
      ],
      "metadata": {
        "colab": {
          "base_uri": "https://localhost:8080/"
        },
        "id": "sjF-IG56xkQc",
        "outputId": "71465f9f-955a-4b9e-c387-96baeb501cc2"
      },
      "execution_count": 4,
      "outputs": [
        {
          "output_type": "stream",
          "name": "stdout",
          "text": [
            "<class 'dict'>\n"
          ]
        }
      ]
    },
    {
      "cell_type": "code",
      "source": [
        "#1D\n",
        "d = {'a':1,'b':2}\n",
        "print(d)"
      ],
      "metadata": {
        "colab": {
          "base_uri": "https://localhost:8080/"
        },
        "id": "1sASNr_JxxC5",
        "outputId": "83cd8d84-03cd-43f0-e751-3e24e72a655f"
      },
      "execution_count": 5,
      "outputs": [
        {
          "output_type": "stream",
          "name": "stdout",
          "text": [
            "{'a': 1, 'b': 2}\n"
          ]
        }
      ]
    },
    {
      "cell_type": "code",
      "source": [
        "#2D\n",
        "d1 = {'a':{'b':1},'c':{'d':2}}\n",
        "print(d1)"
      ],
      "metadata": {
        "colab": {
          "base_uri": "https://localhost:8080/"
        },
        "id": "eNLQ8zIVyeQ1",
        "outputId": "bdf36cdc-6c47-4fd2-d23b-98856e746301"
      },
      "execution_count": 6,
      "outputs": [
        {
          "output_type": "stream",
          "name": "stdout",
          "text": [
            "{'a': {'b': 1}, 'c': {'d': 2}}\n"
          ]
        }
      ]
    },
    {
      "cell_type": "code",
      "source": [
        "#mixed key\n",
        "d = {(1,2,3):33,\"name\":\"madhu\"}\n",
        "print(d)"
      ],
      "metadata": {
        "colab": {
          "base_uri": "https://localhost:8080/"
        },
        "id": "BirXe9v1yaK3",
        "outputId": "8db53e0d-32c2-487f-faf4-ba4107143712"
      },
      "execution_count": 8,
      "outputs": [
        {
          "output_type": "stream",
          "name": "stdout",
          "text": [
            "{(1, 2, 3): 33, 'name': 'madhu'}\n"
          ]
        }
      ]
    },
    {
      "cell_type": "code",
      "source": [
        "#Accessing items\n",
        "\n",
        "d = {(1,2,3):33,\"name\":\"madhu\"}\n",
        "\n",
        "d[(1,2,3)]"
      ],
      "metadata": {
        "colab": {
          "base_uri": "https://localhost:8080/"
        },
        "id": "Y5mbP1Uby6J_",
        "outputId": "3615bc73-7ae3-46ad-856f-d10579679598"
      },
      "execution_count": 9,
      "outputs": [
        {
          "output_type": "execute_result",
          "data": {
            "text/plain": [
              "33"
            ]
          },
          "metadata": {},
          "execution_count": 9
        }
      ]
    },
    {
      "cell_type": "code",
      "source": [
        "d[\"name\"]"
      ],
      "metadata": {
        "colab": {
          "base_uri": "https://localhost:8080/",
          "height": 35
        },
        "id": "X5t_HWF2zQay",
        "outputId": "b788b38a-79e4-41c3-eedc-c01addf17ba3"
      },
      "execution_count": 10,
      "outputs": [
        {
          "output_type": "execute_result",
          "data": {
            "text/plain": [
              "'madhu'"
            ],
            "application/vnd.google.colaboratory.intrinsic+json": {
              "type": "string"
            }
          },
          "metadata": {},
          "execution_count": 10
        }
      ]
    },
    {
      "cell_type": "code",
      "source": [
        "#editing key values\n",
        "\n",
        "d['name']= \"max\""
      ],
      "metadata": {
        "id": "Kl82OCfCzWIR"
      },
      "execution_count": 11,
      "outputs": []
    },
    {
      "cell_type": "code",
      "source": [
        "d[\"name\"]"
      ],
      "metadata": {
        "colab": {
          "base_uri": "https://localhost:8080/",
          "height": 35
        },
        "id": "-7jaUegWziZy",
        "outputId": "030c2384-c112-4dde-d2a4-818a454eec7c"
      },
      "execution_count": 12,
      "outputs": [
        {
          "output_type": "execute_result",
          "data": {
            "text/plain": [
              "'max'"
            ],
            "application/vnd.google.colaboratory.intrinsic+json": {
              "type": "string"
            }
          },
          "metadata": {},
          "execution_count": 12
        }
      ]
    },
    {
      "cell_type": "code",
      "source": [
        "#adding key values\n",
        "d[\"age\"]= 22\n",
        "print (d)"
      ],
      "metadata": {
        "id": "X2qeAdSl015j",
        "outputId": "2124ab11-875e-4483-9747-3de47b527532",
        "colab": {
          "base_uri": "https://localhost:8080/"
        }
      },
      "execution_count": 18,
      "outputs": [
        {
          "output_type": "stream",
          "name": "stdout",
          "text": [
            "{(1, 2, 3): 33, 'name': 'max', 'age': 22}\n"
          ]
        }
      ]
    },
    {
      "cell_type": "code",
      "source": [
        "# removing key values\n",
        "d.pop(\"age\") #takes only keys\n",
        "print(d)"
      ],
      "metadata": {
        "colab": {
          "base_uri": "https://localhost:8080/"
        },
        "id": "bs3qarEOzmFR",
        "outputId": "f1877657-6c50-4136-c9bb-b0147c3cf422"
      },
      "execution_count": 19,
      "outputs": [
        {
          "output_type": "stream",
          "name": "stdout",
          "text": [
            "{(1, 2, 3): 33, 'name': 'max'}\n"
          ]
        }
      ]
    },
    {
      "cell_type": "code",
      "source": [
        "#pop item(removes the last item )\n",
        "\n",
        "d.popitem()\n",
        "print(d)"
      ],
      "metadata": {
        "colab": {
          "base_uri": "https://localhost:8080/"
        },
        "id": "FqRtlYePz60E",
        "outputId": "d0c47720-ed47-45af-ccc4-0558890c30a0"
      },
      "execution_count": 20,
      "outputs": [
        {
          "output_type": "stream",
          "name": "stdout",
          "text": [
            "{(1, 2, 3): 33}\n"
          ]
        }
      ]
    },
    {
      "cell_type": "code",
      "source": [
        "# del\n",
        "\n",
        "d = {(1,2,3):33,\"name\":\"madhu\"}\n",
        "\n",
        "del d[\"name\"]\n",
        "print (d)"
      ],
      "metadata": {
        "id": "TM3ba14-0KqU",
        "outputId": "8dfd36f7-ec39-4265-8487-b5745989abac",
        "colab": {
          "base_uri": "https://localhost:8080/"
        }
      },
      "execution_count": 21,
      "outputs": [
        {
          "output_type": "stream",
          "name": "stdout",
          "text": [
            "{(1, 2, 3): 33}\n"
          ]
        }
      ]
    },
    {
      "cell_type": "code",
      "source": [
        "#clear (removes the all item)\n",
        "\n",
        "d = {(1,2,3):33,\"name\":\"madhu\"}\n",
        "d.clear()\n",
        "print (d)"
      ],
      "metadata": {
        "id": "2m7DL3Xi2LvU",
        "outputId": "ed590257-c955-4196-bfe0-3dd36bf4bc95",
        "colab": {
          "base_uri": "https://localhost:8080/"
        }
      },
      "execution_count": 23,
      "outputs": [
        {
          "output_type": "stream",
          "name": "stdout",
          "text": [
            "{}\n"
          ]
        }
      ]
    },
    {
      "cell_type": "code",
      "source": [],
      "metadata": {
        "id": "YRarZ4Yy2ab5"
      },
      "execution_count": null,
      "outputs": []
    }
  ]
}