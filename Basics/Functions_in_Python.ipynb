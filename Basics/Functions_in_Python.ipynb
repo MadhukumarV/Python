{
  "nbformat": 4,
  "nbformat_minor": 0,
  "metadata": {
    "colab": {
      "provenance": []
    },
    "kernelspec": {
      "name": "python3",
      "display_name": "Python 3"
    },
    "language_info": {
      "name": "python"
    }
  },
  "cells": [
    {
      "cell_type": "code",
      "source": [
        "# Functions in Python\n",
        "\n",
        "# inbuilt functions\n",
        "# user defined functions"
      ],
      "metadata": {
        "id": "WZbFbUYLEe4h"
      },
      "execution_count": 1,
      "outputs": []
    },
    {
      "cell_type": "code",
      "source": [
        "#useer defined function\n",
        "\n",
        "def madhu(n,m):\n",
        "  \"\"\"\n",
        "  enter int no. for n and m\n",
        "  return percentage\n",
        "  \"\"\"\n",
        "  res = int(n /m *100)\n",
        "  return res\n"
      ],
      "metadata": {
        "id": "ZsmKO9CBEsJz"
      },
      "execution_count": 66,
      "outputs": []
    },
    {
      "cell_type": "code",
      "source": [
        "print(madhu(2,3))"
      ],
      "metadata": {
        "colab": {
          "base_uri": "https://localhost:8080/"
        },
        "id": "aT5zBD6bFbeV",
        "outputId": "6ea5f8b3-5feb-40de-d37e-54ce8f6ff3fe"
      },
      "execution_count": 59,
      "outputs": [
        {
          "output_type": "stream",
          "name": "stdout",
          "text": [
            "66\n"
          ]
        }
      ]
    },
    {
      "cell_type": "code",
      "source": [
        "# docstring in function\n",
        "print(madhu.__doc__)\n"
      ],
      "metadata": {
        "colab": {
          "base_uri": "https://localhost:8080/"
        },
        "id": "zqlUfiblICzM",
        "outputId": "0e33197a-83c3-4110-a08e-7b467e1a0c0b"
      },
      "execution_count": 67,
      "outputs": [
        {
          "output_type": "stream",
          "name": "stdout",
          "text": [
            "\n",
            "  enter int no. for n and m\n",
            "  return percentage\n",
            "  \n"
          ]
        }
      ]
    },
    {
      "cell_type": "code",
      "source": [
        "# default arguments\n",
        "\n",
        "def mem (a=0,b=10):\n",
        "  if a > b:\n",
        "    mem = a\n",
        "  else:\n",
        "    mem = b\n",
        "  return mem"
      ],
      "metadata": {
        "id": "D9vpysljLt_D"
      },
      "execution_count": 9,
      "outputs": []
    },
    {
      "cell_type": "code",
      "source": [
        "print(mem())"
      ],
      "metadata": {
        "colab": {
          "base_uri": "https://localhost:8080/"
        },
        "id": "Vf5DdKH3M5eO",
        "outputId": "aa3b4cc0-3702-46b1-c25c-788f89b3e7b4"
      },
      "execution_count": 10,
      "outputs": [
        {
          "output_type": "stream",
          "name": "stdout",
          "text": [
            "10\n"
          ]
        }
      ]
    },
    {
      "cell_type": "code",
      "source": [
        "def power(a=2,b=2):\n",
        "  return a**b"
      ],
      "metadata": {
        "id": "rtTFWDJSM8oZ"
      },
      "execution_count": 15,
      "outputs": []
    },
    {
      "cell_type": "code",
      "source": [
        "print(power(4,4))"
      ],
      "metadata": {
        "colab": {
          "base_uri": "https://localhost:8080/"
        },
        "id": "a-R2ssgwOwhm",
        "outputId": "5e8ba612-8d4d-4d94-fcc9-5b1786bb3b8d"
      },
      "execution_count": 17,
      "outputs": [
        {
          "output_type": "stream",
          "name": "stdout",
          "text": [
            "256\n"
          ]
        }
      ]
    },
    {
      "cell_type": "code",
      "source": [
        "\n",
        "# positional arguments\n",
        "def power(a,b):\n",
        "  return a**b\n",
        "print(power(4,4))\n",
        "print(power(b=4,a=4))"
      ],
      "metadata": {
        "colab": {
          "base_uri": "https://localhost:8080/"
        },
        "id": "9UyzJo8CO4dL",
        "outputId": "e84d20bf-b748-4bb2-d107-7a68c145302b"
      },
      "execution_count": 19,
      "outputs": [
        {
          "output_type": "stream",
          "name": "stdout",
          "text": [
            "256\n",
            "256\n"
          ]
        }
      ]
    },
    {
      "cell_type": "code",
      "source": [
        "# keyword arguments\n",
        "def power(a, b):\n",
        "  return a**b\n",
        "\n",
        "print(power(b=6,a=3))"
      ],
      "metadata": {
        "colab": {
          "base_uri": "https://localhost:8080/"
        },
        "id": "8dK2-LLYP1GU",
        "outputId": "e36c4203-5b9f-456f-9979-ba64edfcf42f"
      },
      "execution_count": 22,
      "outputs": [
        {
          "output_type": "stream",
          "name": "stdout",
          "text": [
            "729\n"
          ]
        }
      ]
    },
    {
      "cell_type": "code",
      "source": [
        "# *args\n",
        "\n",
        "def adder(*num):\n",
        "  sum = 0\n",
        "\n",
        "  for n in num:\n",
        "    sum = sum + n\n",
        "  return sum"
      ],
      "metadata": {
        "id": "rmUAISL8Qlt5"
      },
      "execution_count": 33,
      "outputs": []
    },
    {
      "cell_type": "code",
      "source": [
        "print(adder(2,36,2,552,8552,52,44))"
      ],
      "metadata": {
        "colab": {
          "base_uri": "https://localhost:8080/"
        },
        "id": "r1SmnS84Qqil",
        "outputId": "f7e2be29-e6d6-4807-e04c-f1564db66326"
      },
      "execution_count": 34,
      "outputs": [
        {
          "output_type": "stream",
          "name": "stdout",
          "text": [
            "9240\n"
          ]
        }
      ]
    },
    {
      "cell_type": "code",
      "source": [
        "# **kwargs\n",
        "\n",
        "def intro(**data):\n",
        "  print(\"\\nData type of argument:\",type(data))\n",
        "\n",
        "  for key, value in data.items():\n",
        "    print(\"{} is {}\".format(key,value))"
      ],
      "metadata": {
        "id": "5Ct1sqBRQuYL"
      },
      "execution_count": 35,
      "outputs": []
    },
    {
      "cell_type": "code",
      "source": [
        "print(intro(Firstname=\"Sita\", Lastname=\"Sharma\", Age=22, Phone=1234567890))"
      ],
      "metadata": {
        "colab": {
          "base_uri": "https://localhost:8080/"
        },
        "id": "w2NA5ca4R898",
        "outputId": "967ddb65-26d1-4f32-b5e5-a218efc50233"
      },
      "execution_count": 36,
      "outputs": [
        {
          "output_type": "stream",
          "name": "stdout",
          "text": [
            "\n",
            "Data type of argument: <class 'dict'>\n",
            "Firstname is Sita\n",
            "Lastname is Sharma\n",
            "Age is 22\n",
            "Phone is 1234567890\n",
            "None\n"
          ]
        }
      ]
    },
    {
      "cell_type": "code",
      "source": [],
      "metadata": {
        "id": "IRjnexgmSBsW"
      },
      "execution_count": null,
      "outputs": []
    }
  ]
}