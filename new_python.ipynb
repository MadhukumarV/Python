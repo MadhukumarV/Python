{
  "nbformat": 4,
  "nbformat_minor": 0,
  "metadata": {
    "colab": {
      "provenance": [],
      "authorship_tag": "ABX9TyOkWnEjawTWM7PrtP8/c0x+",
      "include_colab_link": true
    },
    "kernelspec": {
      "name": "python3",
      "display_name": "Python 3"
    },
    "language_info": {
      "name": "python"
    }
  },
  "cells": [
    {
      "cell_type": "markdown",
      "metadata": {
        "id": "view-in-github",
        "colab_type": "text"
      },
      "source": [
        "<a href=\"https://colab.research.google.com/github/MadhukumarV/Python/blob/main/new_python.ipynb\" target=\"_parent\"><img src=\"https://colab.research.google.com/assets/colab-badge.svg\" alt=\"Open In Colab\"/></a>"
      ]
    },
    {
      "cell_type": "code",
      "execution_count": 8,
      "metadata": {
        "colab": {
          "base_uri": "https://localhost:8080/"
        },
        "id": "TA1bHtpNXeWF",
        "outputId": "242d0536-d2e3-4cbd-fdce-b4282e9054e4"
      },
      "outputs": [
        {
          "output_type": "stream",
          "name": "stdout",
          "text": [
            "hello world\n"
          ]
        }
      ],
      "source": [
        "print(\"hello world\")"
      ]
    },
    {
      "cell_type": "markdown",
      "source": [
        "###  Print Function ▶\n",
        "\n",
        "\n"
      ],
      "metadata": {
        "id": "PMEUZK86ahnl"
      }
    },
    {
      "cell_type": "code",
      "source": [
        "print(\"madhu\",1,0.1,True)"
      ],
      "metadata": {
        "colab": {
          "base_uri": "https://localhost:8080/"
        },
        "id": "HXiCRHeiZruf",
        "outputId": "a4cc0de5-7ec5-4627-fdd1-2fd8950e2487"
      },
      "execution_count": 11,
      "outputs": [
        {
          "output_type": "stream",
          "name": "stdout",
          "text": [
            "madhu 1 0.1 True\n"
          ]
        }
      ]
    },
    {
      "cell_type": "markdown",
      "source": [
        "### Print function with different **delimeter**"
      ],
      "metadata": {
        "id": "lcrqoLLrbdGv"
      }
    },
    {
      "cell_type": "code",
      "source": [
        "print(1,2,3,4,5,sep='')"
      ],
      "metadata": {
        "id": "Npdo9aLGbXS-",
        "outputId": "05ff9734-ff10-42d5-f712-58313f116dba",
        "colab": {
          "base_uri": "https://localhost:8080/"
        }
      },
      "execution_count": 13,
      "outputs": [
        {
          "output_type": "stream",
          "name": "stdout",
          "text": [
            "12345\n"
          ]
        }
      ]
    },
    {
      "cell_type": "markdown",
      "source": [
        "### **with sep = ','**"
      ],
      "metadata": {
        "id": "zrI-HTSDbYb6"
      }
    },
    {
      "cell_type": "code",
      "source": [
        "print(1,2,3,4,5,sep=',')"
      ],
      "metadata": {
        "id": "8oSYDs2pcC8Y",
        "outputId": "cf04cf1a-cdcf-4857-b0b2-f847d593f9e6",
        "colab": {
          "base_uri": "https://localhost:8080/"
        }
      },
      "execution_count": 14,
      "outputs": [
        {
          "output_type": "stream",
          "name": "stdout",
          "text": [
            "1,2,3,4,5\n"
          ]
        }
      ]
    },
    {
      "cell_type": "code",
      "source": [
        "print('madhu','kumar',sep='.')"
      ],
      "metadata": {
        "id": "tY4eXfDNcaiA",
        "outputId": "8eca798f-cdfd-4004-e6eb-26ff32693100",
        "colab": {
          "base_uri": "https://localhost:8080/"
        }
      },
      "execution_count": 16,
      "outputs": [
        {
          "output_type": "stream",
          "name": "stdout",
          "text": [
            "madhu.kumar\n"
          ]
        }
      ]
    },
    {
      "cell_type": "markdown",
      "source": [
        "**Printing in new line**"
      ],
      "metadata": {
        "id": "U2lddH_Bc--Z"
      }
    },
    {
      "cell_type": "code",
      "source": [
        "print(\"madhu\")\n",
        "print(\"kumar\")"
      ],
      "metadata": {
        "id": "aTVI9KR3c1Pa",
        "outputId": "1a9d1778-7681-4a37-c5bd-13bf59f72e12",
        "colab": {
          "base_uri": "https://localhost:8080/"
        }
      },
      "execution_count": 17,
      "outputs": [
        {
          "output_type": "stream",
          "name": "stdout",
          "text": [
            "madhu\n",
            "kumar\n"
          ]
        }
      ]
    },
    {
      "cell_type": "markdown",
      "source": [
        "**Another way**"
      ],
      "metadata": {
        "id": "b9mkKc_vc8tX"
      }
    },
    {
      "cell_type": "code",
      "source": [
        "print('madhu \\nkumar')"
      ],
      "metadata": {
        "id": "5T6_J5EYdd3q",
        "outputId": "0587db74-d5dd-4e1e-e5c5-8c742300499f",
        "colab": {
          "base_uri": "https://localhost:8080/"
        }
      },
      "execution_count": 18,
      "outputs": [
        {
          "output_type": "stream",
          "name": "stdout",
          "text": [
            "madhu \n",
            "kumar\n"
          ]
        }
      ]
    },
    {
      "cell_type": "code",
      "source": [
        "print(\"MADHUKUMAR V\",1,0.9,True,sep='\\n')"
      ],
      "metadata": {
        "id": "OiKVjVyXdtn5",
        "outputId": "4ac132fe-56a4-4add-e804-527ef101a5b6",
        "colab": {
          "base_uri": "https://localhost:8080/"
        }
      },
      "execution_count": 19,
      "outputs": [
        {
          "output_type": "stream",
          "name": "stdout",
          "text": [
            "MADHUKUMAR V\n",
            "1\n",
            "0.9\n",
            "True\n"
          ]
        }
      ]
    }
  ]
}