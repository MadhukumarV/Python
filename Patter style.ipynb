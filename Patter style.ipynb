{
 "cells": [
  {
   "cell_type": "markdown",
   "id": "489f4168",
   "metadata": {},
   "source": [
    "Printing Name in Pattern Style"
   ]
  },
  {
   "cell_type": "code",
   "execution_count": 4,
   "id": "ef562272",
   "metadata": {},
   "outputs": [
    {
     "name": "stdout",
     "output_type": "stream",
     "text": [
      "enter the no. :15\n",
      " Madhu\n",
      " Madhu Madhu\n",
      " Madhu Madhu Madhu\n",
      " Madhu Madhu Madhu Madhu\n",
      " Madhu Madhu Madhu Madhu Madhu\n",
      " Madhu Madhu Madhu Madhu Madhu Madhu\n",
      " Madhu Madhu Madhu Madhu Madhu Madhu Madhu\n",
      " Madhu Madhu Madhu Madhu Madhu Madhu Madhu Madhu\n",
      " Madhu Madhu Madhu Madhu Madhu Madhu Madhu Madhu Madhu\n",
      " Madhu Madhu Madhu Madhu Madhu Madhu Madhu Madhu Madhu Madhu\n",
      " Madhu Madhu Madhu Madhu Madhu Madhu Madhu Madhu Madhu Madhu Madhu\n",
      " Madhu Madhu Madhu Madhu Madhu Madhu Madhu Madhu Madhu Madhu Madhu Madhu\n",
      " Madhu Madhu Madhu Madhu Madhu Madhu Madhu Madhu Madhu Madhu Madhu Madhu Madhu\n",
      " Madhu Madhu Madhu Madhu Madhu Madhu Madhu Madhu Madhu Madhu Madhu Madhu Madhu Madhu\n",
      " Madhu Madhu Madhu Madhu Madhu Madhu Madhu Madhu Madhu Madhu Madhu Madhu Madhu Madhu Madhu\n",
      "\n",
      " thank you\n"
     ]
    }
   ],
   "source": [
    "##enter the number of times to print \n",
    "n=int(input(\"enter the no. :\"))\n",
    "i=1\n",
    "for i in range(0,n):\n",
    "        for j in range(0,i+1):\n",
    "    \n",
    "            print(\" Madhu\", end=\"\")\n",
    "        print(\"\\r\")\n",
    "        \n",
    "print(\"\\n thank you\")"
   ]
  },
  {
   "cell_type": "code",
   "execution_count": null,
   "id": "7309fa0f",
   "metadata": {},
   "outputs": [],
   "source": []
  },
  {
   "cell_type": "code",
   "execution_count": null,
   "id": "692c3930",
   "metadata": {},
   "outputs": [],
   "source": []
  }
 ],
 "metadata": {
  "kernelspec": {
   "display_name": "Python 3 (ipykernel)",
   "language": "python",
   "name": "python3"
  },
  "language_info": {
   "codemirror_mode": {
    "name": "ipython",
    "version": 3
   },
   "file_extension": ".py",
   "mimetype": "text/x-python",
   "name": "python",
   "nbconvert_exporter": "python",
   "pygments_lexer": "ipython3",
   "version": "3.10.7"
  }
 },
 "nbformat": 4,
 "nbformat_minor": 5
}
