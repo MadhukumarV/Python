{
 "cells": [
  {
   "cell_type": "markdown",
   "id": "01689140-298b-4609-a9af-e670fbe69f10",
   "metadata": {},
   "source": [
    "# Basic Calculator\n",
    "\n"
   ]
  },
  {
   "cell_type": "code",
   "execution_count": 13,
   "id": "14e27ef6-dc20-4225-b437-cabf88a417f4",
   "metadata": {},
   "outputs": [
    {
     "name": "stdin",
     "output_type": "stream",
     "text": [
      "enter the 1st number  6\n",
      "enter the 2st number  3\n"
     ]
    },
    {
     "name": "stdout",
     "output_type": "stream",
     "text": [
      "Addition  is : 9\n",
      "Subtraction is : 3\n",
      "Multiplication is : 18\n",
      "Division is : 2.0\n",
      "Thank you\n"
     ]
    }
   ],
   "source": [
    "a = int(input(\"enter the 1st number \"))\n",
    "b = int(input(\"enter the 2st number \"))\n",
    "\n",
    "Addition = a+b  \n",
    "Subtraction = a-b \n",
    "Multiplication = a*b\n",
    "Division = a/b \n",
    "print(\"Addition  is :\",Addition)\n",
    "print(\"Subtraction is :\",Subtraction)\n",
    "print(\"Multiplication is :\",Multiplication)\n",
    "print(\"Division is :\",Division)\n",
    "   \n",
    "    \n",
    "    \n",
    "print (\"Thank you\")"
   ]
  },
  {
   "cell_type": "code",
   "execution_count": null,
   "id": "ca34fe13-fb5e-4f44-ba67-f206e7607eb9",
   "metadata": {},
   "outputs": [],
   "source": []
  }
 ],
 "metadata": {
  "kernelspec": {
   "display_name": "Python 3 (ipykernel)",
   "language": "python",
   "name": "python3"
  },
  "language_info": {
   "codemirror_mode": {
    "name": "ipython",
    "version": 3
   },
   "file_extension": ".py",
   "mimetype": "text/x-python",
   "name": "python",
   "nbconvert_exporter": "python",
   "pygments_lexer": "ipython3",
   "version": "3.10.6"
  }
 },
 "nbformat": 4,
 "nbformat_minor": 5
}
